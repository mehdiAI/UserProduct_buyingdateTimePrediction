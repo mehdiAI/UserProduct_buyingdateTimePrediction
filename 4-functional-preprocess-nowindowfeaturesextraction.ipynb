{
 "cells": [
  {
   "cell_type": "code",
   "execution_count": 1,
   "id": "973b084a",
   "metadata": {
    "execution": {
     "iopub.execute_input": "2022-07-19T14:29:27.351692Z",
     "iopub.status.busy": "2022-07-19T14:29:27.351172Z",
     "iopub.status.idle": "2022-07-19T14:29:28.663516Z",
     "shell.execute_reply": "2022-07-19T14:29:28.662622Z"
    },
    "papermill": {
     "duration": 1.325446,
     "end_time": "2022-07-19T14:29:28.666198",
     "exception": false,
     "start_time": "2022-07-19T14:29:27.340752",
     "status": "completed"
    },
    "tags": []
   },
   "outputs": [],
   "source": [
    "import pandas as pd\n",
    "import numpy as np\n",
    "import matplotlib.pyplot as plt\n",
    "import seaborn as sns\n",
    "from IPython.display import display, HTML,clear_output\n",
    "import joblib"
   ]
  },
  {
   "cell_type": "code",
   "execution_count": 2,
   "id": "9c96c293",
   "metadata": {
    "execution": {
     "iopub.execute_input": "2022-07-19T14:29:28.684437Z",
     "iopub.status.busy": "2022-07-19T14:29:28.683385Z",
     "iopub.status.idle": "2022-07-19T14:38:52.245027Z",
     "shell.execute_reply": "2022-07-19T14:38:52.243793Z"
    },
    "papermill": {
     "duration": 563.574966,
     "end_time": "2022-07-19T14:38:52.249178",
     "exception": false,
     "start_time": "2022-07-19T14:29:28.674212",
     "status": "completed"
    },
    "tags": []
   },
   "outputs": [
    {
     "name": "stdout",
     "output_type": "stream",
     "text": [
      "purchase shape dataframe shape:  (2174447, 3)\n"
     ]
    },
    {
     "data": {
      "text/html": [
       "<table border=\"1\" class=\"dataframe\">\n",
       "  <thead>\n",
       "    <tr style=\"text-align: right;\">\n",
       "      <th></th>\n",
       "      <th>user_id</th>\n",
       "      <th>product_id</th>\n",
       "      <th>created_at</th>\n",
       "    </tr>\n",
       "  </thead>\n",
       "  <tbody>\n",
       "    <tr>\n",
       "      <th>68489</th>\n",
       "      <td>577243</td>\n",
       "      <td>724112</td>\n",
       "      <td>2019-03-13</td>\n",
       "    </tr>\n",
       "    <tr>\n",
       "      <th>1304270</th>\n",
       "      <td>577243</td>\n",
       "      <td>724112</td>\n",
       "      <td>2019-03-25</td>\n",
       "    </tr>\n",
       "    <tr>\n",
       "      <th>418727</th>\n",
       "      <td>577243</td>\n",
       "      <td>724112</td>\n",
       "      <td>2019-04-22</td>\n",
       "    </tr>\n",
       "    <tr>\n",
       "      <th>1859117</th>\n",
       "      <td>577243</td>\n",
       "      <td>724112</td>\n",
       "      <td>2019-06-16</td>\n",
       "    </tr>\n",
       "    <tr>\n",
       "      <th>988009</th>\n",
       "      <td>577243</td>\n",
       "      <td>724112</td>\n",
       "      <td>2019-06-29</td>\n",
       "    </tr>\n",
       "  </tbody>\n",
       "</table>"
      ],
      "text/plain": [
       "<IPython.core.display.HTML object>"
      ]
     },
     "metadata": {},
     "output_type": "display_data"
    },
    {
     "name": "stdout",
     "output_type": "stream",
     "text": [
      "purchase df with diffDay shape:  (2174447, 6)\n"
     ]
    },
    {
     "data": {
      "text/html": [
       "<table border=\"1\" class=\"dataframe\">\n",
       "  <thead>\n",
       "    <tr style=\"text-align: right;\">\n",
       "      <th></th>\n",
       "      <th>index</th>\n",
       "      <th>user_id</th>\n",
       "      <th>product_id</th>\n",
       "      <th>created_at</th>\n",
       "      <th>diffDay</th>\n",
       "      <th>GoneDays</th>\n",
       "    </tr>\n",
       "  </thead>\n",
       "  <tbody>\n",
       "    <tr>\n",
       "      <th>2174427</th>\n",
       "      <td>349309</td>\n",
       "      <td>45443053</td>\n",
       "      <td>1660612</td>\n",
       "      <td>2019-12-07</td>\n",
       "      <td>1.0</td>\n",
       "      <td>340</td>\n",
       "    </tr>\n",
       "    <tr>\n",
       "      <th>2174428</th>\n",
       "      <td>637531</td>\n",
       "      <td>45443053</td>\n",
       "      <td>1660612</td>\n",
       "      <td>2019-12-24</td>\n",
       "      <td>17.0</td>\n",
       "      <td>357</td>\n",
       "    </tr>\n",
       "    <tr>\n",
       "      <th>2174429</th>\n",
       "      <td>919997</td>\n",
       "      <td>45443053</td>\n",
       "      <td>1660612</td>\n",
       "      <td>2019-12-24</td>\n",
       "      <td>0.0</td>\n",
       "      <td>357</td>\n",
       "    </tr>\n",
       "    <tr>\n",
       "      <th>2174430</th>\n",
       "      <td>1214103</td>\n",
       "      <td>45443053</td>\n",
       "      <td>1660612</td>\n",
       "      <td>2019-12-24</td>\n",
       "      <td>0.0</td>\n",
       "      <td>357</td>\n",
       "    </tr>\n",
       "    <tr>\n",
       "      <th>2174431</th>\n",
       "      <td>1352989</td>\n",
       "      <td>45443053</td>\n",
       "      <td>1660612</td>\n",
       "      <td>2019-12-24</td>\n",
       "      <td>0.0</td>\n",
       "      <td>357</td>\n",
       "    </tr>\n",
       "    <tr>\n",
       "      <th>2174432</th>\n",
       "      <td>580497</td>\n",
       "      <td>45471482</td>\n",
       "      <td>1945563</td>\n",
       "      <td>2019-02-17</td>\n",
       "      <td>NaN</td>\n",
       "      <td>47</td>\n",
       "    </tr>\n",
       "    <tr>\n",
       "      <th>2174433</th>\n",
       "      <td>483565</td>\n",
       "      <td>45471482</td>\n",
       "      <td>1945563</td>\n",
       "      <td>2019-02-27</td>\n",
       "      <td>10.0</td>\n",
       "      <td>57</td>\n",
       "    </tr>\n",
       "    <tr>\n",
       "      <th>2174434</th>\n",
       "      <td>1309264</td>\n",
       "      <td>45471482</td>\n",
       "      <td>1945563</td>\n",
       "      <td>2019-03-17</td>\n",
       "      <td>18.0</td>\n",
       "      <td>75</td>\n",
       "    </tr>\n",
       "    <tr>\n",
       "      <th>2174435</th>\n",
       "      <td>964042</td>\n",
       "      <td>45471482</td>\n",
       "      <td>1945563</td>\n",
       "      <td>2019-08-10</td>\n",
       "      <td>146.0</td>\n",
       "      <td>221</td>\n",
       "    </tr>\n",
       "    <tr>\n",
       "      <th>2174436</th>\n",
       "      <td>320355</td>\n",
       "      <td>45471482</td>\n",
       "      <td>3309954</td>\n",
       "      <td>2019-10-31</td>\n",
       "      <td>NaN</td>\n",
       "      <td>303</td>\n",
       "    </tr>\n",
       "    <tr>\n",
       "      <th>2174437</th>\n",
       "      <td>1867727</td>\n",
       "      <td>45471482</td>\n",
       "      <td>3309954</td>\n",
       "      <td>2019-11-08</td>\n",
       "      <td>8.0</td>\n",
       "      <td>311</td>\n",
       "    </tr>\n",
       "    <tr>\n",
       "      <th>2174438</th>\n",
       "      <td>72878</td>\n",
       "      <td>45471482</td>\n",
       "      <td>3309954</td>\n",
       "      <td>2019-11-11</td>\n",
       "      <td>3.0</td>\n",
       "      <td>314</td>\n",
       "    </tr>\n",
       "    <tr>\n",
       "      <th>2174439</th>\n",
       "      <td>1150243</td>\n",
       "      <td>45471482</td>\n",
       "      <td>3309954</td>\n",
       "      <td>2019-11-15</td>\n",
       "      <td>4.0</td>\n",
       "      <td>318</td>\n",
       "    </tr>\n",
       "    <tr>\n",
       "      <th>2174440</th>\n",
       "      <td>2155197</td>\n",
       "      <td>45471482</td>\n",
       "      <td>4563945</td>\n",
       "      <td>2019-10-01</td>\n",
       "      <td>NaN</td>\n",
       "      <td>273</td>\n",
       "    </tr>\n",
       "    <tr>\n",
       "      <th>2174441</th>\n",
       "      <td>1373089</td>\n",
       "      <td>45471482</td>\n",
       "      <td>4563945</td>\n",
       "      <td>2019-10-04</td>\n",
       "      <td>3.0</td>\n",
       "      <td>276</td>\n",
       "    </tr>\n",
       "    <tr>\n",
       "      <th>2174442</th>\n",
       "      <td>1377731</td>\n",
       "      <td>45471482</td>\n",
       "      <td>4563945</td>\n",
       "      <td>2019-10-17</td>\n",
       "      <td>13.0</td>\n",
       "      <td>289</td>\n",
       "    </tr>\n",
       "    <tr>\n",
       "      <th>2174443</th>\n",
       "      <td>1695845</td>\n",
       "      <td>45471482</td>\n",
       "      <td>4563945</td>\n",
       "      <td>2019-10-29</td>\n",
       "      <td>12.0</td>\n",
       "      <td>301</td>\n",
       "    </tr>\n",
       "    <tr>\n",
       "      <th>2174444</th>\n",
       "      <td>1121576</td>\n",
       "      <td>45471482</td>\n",
       "      <td>4563945</td>\n",
       "      <td>2019-11-10</td>\n",
       "      <td>12.0</td>\n",
       "      <td>313</td>\n",
       "    </tr>\n",
       "    <tr>\n",
       "      <th>2174445</th>\n",
       "      <td>1535111</td>\n",
       "      <td>45471482</td>\n",
       "      <td>4563945</td>\n",
       "      <td>2019-11-11</td>\n",
       "      <td>1.0</td>\n",
       "      <td>314</td>\n",
       "    </tr>\n",
       "    <tr>\n",
       "      <th>2174446</th>\n",
       "      <td>759240</td>\n",
       "      <td>45471482</td>\n",
       "      <td>4563945</td>\n",
       "      <td>2019-11-15</td>\n",
       "      <td>4.0</td>\n",
       "      <td>318</td>\n",
       "    </tr>\n",
       "  </tbody>\n",
       "</table>"
      ],
      "text/plain": [
       "<IPython.core.display.HTML object>"
      ]
     },
     "metadata": {},
     "output_type": "display_data"
    },
    {
     "name": "stdout",
     "output_type": "stream",
     "text": [
      "-----------------------------------------------------------------\n",
      "target(last purchase datetime) shape:  (318050, 6)\n"
     ]
    },
    {
     "data": {
      "text/html": [
       "<table border=\"1\" class=\"dataframe\">\n",
       "  <thead>\n",
       "    <tr style=\"text-align: right;\">\n",
       "      <th></th>\n",
       "      <th>user_id</th>\n",
       "      <th>product_id</th>\n",
       "      <th>created_at</th>\n",
       "      <th>diffDay</th>\n",
       "      <th>GoneDays</th>\n",
       "      <th>index</th>\n",
       "    </tr>\n",
       "  </thead>\n",
       "  <tbody>\n",
       "    <tr>\n",
       "      <th>318045</th>\n",
       "      <td>45431507</td>\n",
       "      <td>4375282</td>\n",
       "      <td>2019-08-27</td>\n",
       "      <td>47.0</td>\n",
       "      <td>238</td>\n",
       "      <td>806653</td>\n",
       "    </tr>\n",
       "    <tr>\n",
       "      <th>318046</th>\n",
       "      <td>45443053</td>\n",
       "      <td>1660612</td>\n",
       "      <td>2019-12-24</td>\n",
       "      <td>0.0</td>\n",
       "      <td>357</td>\n",
       "      <td>1352989</td>\n",
       "    </tr>\n",
       "    <tr>\n",
       "      <th>318047</th>\n",
       "      <td>45471482</td>\n",
       "      <td>1945563</td>\n",
       "      <td>2019-08-10</td>\n",
       "      <td>146.0</td>\n",
       "      <td>221</td>\n",
       "      <td>964042</td>\n",
       "    </tr>\n",
       "    <tr>\n",
       "      <th>318048</th>\n",
       "      <td>45471482</td>\n",
       "      <td>3309954</td>\n",
       "      <td>2019-11-15</td>\n",
       "      <td>4.0</td>\n",
       "      <td>318</td>\n",
       "      <td>1150243</td>\n",
       "    </tr>\n",
       "    <tr>\n",
       "      <th>318049</th>\n",
       "      <td>45471482</td>\n",
       "      <td>4563945</td>\n",
       "      <td>2019-11-15</td>\n",
       "      <td>4.0</td>\n",
       "      <td>318</td>\n",
       "      <td>759240</td>\n",
       "    </tr>\n",
       "  </tbody>\n",
       "</table>"
      ],
      "text/plain": [
       "<IPython.core.display.HTML object>"
      ]
     },
     "metadata": {},
     "output_type": "display_data"
    },
    {
     "name": "stdout",
     "output_type": "stream",
     "text": [
      "trainData shape:  (1856397, 6)\n"
     ]
    },
    {
     "data": {
      "text/html": [
       "<table border=\"1\" class=\"dataframe\">\n",
       "  <thead>\n",
       "    <tr style=\"text-align: right;\">\n",
       "      <th></th>\n",
       "      <th>index</th>\n",
       "      <th>user_id</th>\n",
       "      <th>product_id</th>\n",
       "      <th>created_at</th>\n",
       "      <th>diffDay</th>\n",
       "      <th>GoneDays</th>\n",
       "    </tr>\n",
       "  </thead>\n",
       "  <tbody>\n",
       "    <tr>\n",
       "      <th>2174423</th>\n",
       "      <td>1435673</td>\n",
       "      <td>45443053</td>\n",
       "      <td>1660612</td>\n",
       "      <td>2019-11-28</td>\n",
       "      <td>1.0</td>\n",
       "      <td>331</td>\n",
       "    </tr>\n",
       "    <tr>\n",
       "      <th>2174424</th>\n",
       "      <td>395274</td>\n",
       "      <td>45443053</td>\n",
       "      <td>1660612</td>\n",
       "      <td>2019-11-30</td>\n",
       "      <td>2.0</td>\n",
       "      <td>333</td>\n",
       "    </tr>\n",
       "    <tr>\n",
       "      <th>2174425</th>\n",
       "      <td>2103062</td>\n",
       "      <td>45443053</td>\n",
       "      <td>1660612</td>\n",
       "      <td>2019-12-04</td>\n",
       "      <td>4.0</td>\n",
       "      <td>337</td>\n",
       "    </tr>\n",
       "    <tr>\n",
       "      <th>2174426</th>\n",
       "      <td>440594</td>\n",
       "      <td>45443053</td>\n",
       "      <td>1660612</td>\n",
       "      <td>2019-12-06</td>\n",
       "      <td>2.0</td>\n",
       "      <td>339</td>\n",
       "    </tr>\n",
       "    <tr>\n",
       "      <th>2174427</th>\n",
       "      <td>349309</td>\n",
       "      <td>45443053</td>\n",
       "      <td>1660612</td>\n",
       "      <td>2019-12-07</td>\n",
       "      <td>1.0</td>\n",
       "      <td>340</td>\n",
       "    </tr>\n",
       "    <tr>\n",
       "      <th>2174428</th>\n",
       "      <td>637531</td>\n",
       "      <td>45443053</td>\n",
       "      <td>1660612</td>\n",
       "      <td>2019-12-24</td>\n",
       "      <td>17.0</td>\n",
       "      <td>357</td>\n",
       "    </tr>\n",
       "    <tr>\n",
       "      <th>2174429</th>\n",
       "      <td>919997</td>\n",
       "      <td>45443053</td>\n",
       "      <td>1660612</td>\n",
       "      <td>2019-12-24</td>\n",
       "      <td>0.0</td>\n",
       "      <td>357</td>\n",
       "    </tr>\n",
       "    <tr>\n",
       "      <th>2174430</th>\n",
       "      <td>1214103</td>\n",
       "      <td>45443053</td>\n",
       "      <td>1660612</td>\n",
       "      <td>2019-12-24</td>\n",
       "      <td>0.0</td>\n",
       "      <td>357</td>\n",
       "    </tr>\n",
       "    <tr>\n",
       "      <th>2174432</th>\n",
       "      <td>580497</td>\n",
       "      <td>45471482</td>\n",
       "      <td>1945563</td>\n",
       "      <td>2019-02-17</td>\n",
       "      <td>NaN</td>\n",
       "      <td>47</td>\n",
       "    </tr>\n",
       "    <tr>\n",
       "      <th>2174433</th>\n",
       "      <td>483565</td>\n",
       "      <td>45471482</td>\n",
       "      <td>1945563</td>\n",
       "      <td>2019-02-27</td>\n",
       "      <td>10.0</td>\n",
       "      <td>57</td>\n",
       "    </tr>\n",
       "    <tr>\n",
       "      <th>2174434</th>\n",
       "      <td>1309264</td>\n",
       "      <td>45471482</td>\n",
       "      <td>1945563</td>\n",
       "      <td>2019-03-17</td>\n",
       "      <td>18.0</td>\n",
       "      <td>75</td>\n",
       "    </tr>\n",
       "    <tr>\n",
       "      <th>2174436</th>\n",
       "      <td>320355</td>\n",
       "      <td>45471482</td>\n",
       "      <td>3309954</td>\n",
       "      <td>2019-10-31</td>\n",
       "      <td>NaN</td>\n",
       "      <td>303</td>\n",
       "    </tr>\n",
       "    <tr>\n",
       "      <th>2174437</th>\n",
       "      <td>1867727</td>\n",
       "      <td>45471482</td>\n",
       "      <td>3309954</td>\n",
       "      <td>2019-11-08</td>\n",
       "      <td>8.0</td>\n",
       "      <td>311</td>\n",
       "    </tr>\n",
       "    <tr>\n",
       "      <th>2174438</th>\n",
       "      <td>72878</td>\n",
       "      <td>45471482</td>\n",
       "      <td>3309954</td>\n",
       "      <td>2019-11-11</td>\n",
       "      <td>3.0</td>\n",
       "      <td>314</td>\n",
       "    </tr>\n",
       "    <tr>\n",
       "      <th>2174440</th>\n",
       "      <td>2155197</td>\n",
       "      <td>45471482</td>\n",
       "      <td>4563945</td>\n",
       "      <td>2019-10-01</td>\n",
       "      <td>NaN</td>\n",
       "      <td>273</td>\n",
       "    </tr>\n",
       "    <tr>\n",
       "      <th>2174441</th>\n",
       "      <td>1373089</td>\n",
       "      <td>45471482</td>\n",
       "      <td>4563945</td>\n",
       "      <td>2019-10-04</td>\n",
       "      <td>3.0</td>\n",
       "      <td>276</td>\n",
       "    </tr>\n",
       "    <tr>\n",
       "      <th>2174442</th>\n",
       "      <td>1377731</td>\n",
       "      <td>45471482</td>\n",
       "      <td>4563945</td>\n",
       "      <td>2019-10-17</td>\n",
       "      <td>13.0</td>\n",
       "      <td>289</td>\n",
       "    </tr>\n",
       "    <tr>\n",
       "      <th>2174443</th>\n",
       "      <td>1695845</td>\n",
       "      <td>45471482</td>\n",
       "      <td>4563945</td>\n",
       "      <td>2019-10-29</td>\n",
       "      <td>12.0</td>\n",
       "      <td>301</td>\n",
       "    </tr>\n",
       "    <tr>\n",
       "      <th>2174444</th>\n",
       "      <td>1121576</td>\n",
       "      <td>45471482</td>\n",
       "      <td>4563945</td>\n",
       "      <td>2019-11-10</td>\n",
       "      <td>12.0</td>\n",
       "      <td>313</td>\n",
       "    </tr>\n",
       "    <tr>\n",
       "      <th>2174445</th>\n",
       "      <td>1535111</td>\n",
       "      <td>45471482</td>\n",
       "      <td>4563945</td>\n",
       "      <td>2019-11-11</td>\n",
       "      <td>1.0</td>\n",
       "      <td>314</td>\n",
       "    </tr>\n",
       "  </tbody>\n",
       "</table>"
      ],
      "text/plain": [
       "<IPython.core.display.HTML object>"
      ]
     },
     "metadata": {},
     "output_type": "display_data"
    }
   ],
   "source": [
    "def readData_basicExtract():\n",
    "    purchasedf = pd.read_csv('../input/buyinghabitsofdigikalausers/purchase_history.csv')\n",
    "    purchasedf[\"created_at\"] = pd.to_datetime(purchasedf[\"created_at\"])\n",
    "    \n",
    "    sortedPurchasedf = purchasedf.sort_values(by=['user_id','product_id','created_at'])\n",
    "    del purchasedf\n",
    "    print('purchase shape dataframe shape: ',sortedPurchasedf.shape)\n",
    "    display(HTML(sortedPurchasedf.head().to_html()))\n",
    "    \n",
    "    ALLdata = sortedPurchasedf.copy()\n",
    "    ALLdata['diffDay'] = ALLdata.groupby(['user_id','product_id'],as_index=False)['created_at'].transform(lambda x : x-x.shift(1))\n",
    "    ALLdata['diffDay'] = ALLdata['diffDay'].dt.days\n",
    "    firstRecord = pd.Timestamp('2019-01-01')\n",
    "    ALLdata['GoneDays'] = (ALLdata['created_at'] - firstRecord).dt.days\n",
    "    ALLdata.reset_index(inplace=True)\n",
    "    print('purchase df with diffDay shape: ',ALLdata.shape)\n",
    "    display(HTML(ALLdata.tail(20).to_html()))\n",
    "    print('-----------------------------------------------------------------')\n",
    "    target = ALLdata.reset_index().groupby(['user_id','product_id'],as_index=False).agg(created_at=('created_at','max'),\n",
    "                                                                     diffDay=('diffDay',lambda x:x.iloc[-1]),\n",
    "                                                                     GoneDays=('GoneDays',lambda x:x.iloc[-1]),\n",
    "                                                                      index = ('index',lambda x:x.iloc[-1]) )\n",
    "    print('target(last purchase datetime) shape: ',target.shape)\n",
    "    display(HTML(target.tail(5).to_html()))\n",
    "    trainData = ALLdata[~ALLdata['index'].isin(target['index'])]\n",
    "    print('trainData shape: ',trainData.shape)\n",
    "    display(HTML(trainData.tail(20).to_html()))\n",
    "    \n",
    "    return ALLdata,trainData,target\n",
    "\n",
    "ALLdata,trainData,target = readData_basicExtract()"
   ]
  },
  {
   "cell_type": "code",
   "execution_count": 3,
   "id": "c749faa4",
   "metadata": {
    "execution": {
     "iopub.execute_input": "2022-07-19T14:38:52.272315Z",
     "iopub.status.busy": "2022-07-19T14:38:52.271895Z",
     "iopub.status.idle": "2022-07-19T14:38:56.045905Z",
     "shell.execute_reply": "2022-07-19T14:38:56.044606Z"
    },
    "papermill": {
     "duration": 3.788353,
     "end_time": "2022-07-19T14:38:56.049174",
     "exception": false,
     "start_time": "2022-07-19T14:38:52.260821",
     "status": "completed"
    },
    "tags": []
   },
   "outputs": [],
   "source": [
    "target.to_csv('targetFor_trainProductUserdf.csv',index=False)"
   ]
  },
  {
   "cell_type": "markdown",
   "id": "0ca8b755",
   "metadata": {
    "papermill": {
     "duration": 0.009112,
     "end_time": "2022-07-19T14:38:56.067726",
     "exception": false,
     "start_time": "2022-07-19T14:38:56.058614",
     "status": "completed"
    },
    "tags": []
   },
   "source": [
    "> trainData is seperated last datatime of purchased as a target but ALLdata has all datetimes."
   ]
  },
  {
   "cell_type": "markdown",
   "id": "ce1f1e63",
   "metadata": {
    "papermill": {
     "duration": 0.00912,
     "end_time": "2022-07-19T14:38:56.088962",
     "exception": false,
     "start_time": "2022-07-19T14:38:56.079842",
     "status": "completed"
    },
    "tags": []
   },
   "source": [
    "### ---------------------------------------------------------------------------------------"
   ]
  },
  {
   "cell_type": "markdown",
   "id": "8257c9b7",
   "metadata": {
    "papermill": {
     "duration": 0.009155,
     "end_time": "2022-07-19T14:38:56.108077",
     "exception": false,
     "start_time": "2022-07-19T14:38:56.098922",
     "status": "completed"
    },
    "tags": []
   },
   "source": [
    "#### Grouping and add some features."
   ]
  },
  {
   "cell_type": "code",
   "execution_count": 4,
   "id": "50d6aa3b",
   "metadata": {
    "execution": {
     "iopub.execute_input": "2022-07-19T14:38:56.130469Z",
     "iopub.status.busy": "2022-07-19T14:38:56.130031Z",
     "iopub.status.idle": "2022-07-19T14:42:25.526619Z",
     "shell.execute_reply": "2022-07-19T14:42:25.525417Z"
    },
    "papermill": {
     "duration": 209.411555,
     "end_time": "2022-07-19T14:42:25.529388",
     "exception": false,
     "start_time": "2022-07-19T14:38:56.117833",
     "status": "completed"
    },
    "tags": []
   },
   "outputs": [
    {
     "name": "stdout",
     "output_type": "stream",
     "text": [
      "productProb:  (41127, 2)\n"
     ]
    },
    {
     "data": {
      "text/html": [
       "<table border=\"1\" class=\"dataframe\">\n",
       "  <thead>\n",
       "    <tr style=\"text-align: right;\">\n",
       "      <th></th>\n",
       "      <th>product_id</th>\n",
       "      <th>ProductProb</th>\n",
       "    </tr>\n",
       "  </thead>\n",
       "  <tbody>\n",
       "    <tr>\n",
       "      <th>41121</th>\n",
       "      <td>3639152</td>\n",
       "      <td>0.0001</td>\n",
       "    </tr>\n",
       "    <tr>\n",
       "      <th>41122</th>\n",
       "      <td>1867416</td>\n",
       "      <td>0.0001</td>\n",
       "    </tr>\n",
       "    <tr>\n",
       "      <th>41123</th>\n",
       "      <td>3457051</td>\n",
       "      <td>0.0001</td>\n",
       "    </tr>\n",
       "    <tr>\n",
       "      <th>41124</th>\n",
       "      <td>4256657</td>\n",
       "      <td>0.0001</td>\n",
       "    </tr>\n",
       "    <tr>\n",
       "      <th>41125</th>\n",
       "      <td>4623413</td>\n",
       "      <td>0.0001</td>\n",
       "    </tr>\n",
       "    <tr>\n",
       "      <th>41126</th>\n",
       "      <td>3760894</td>\n",
       "      <td>0.0001</td>\n",
       "    </tr>\n",
       "  </tbody>\n",
       "</table>"
      ],
      "text/plain": [
       "<IPython.core.display.HTML object>"
      ]
     },
     "metadata": {},
     "output_type": "display_data"
    },
    {
     "name": "stdout",
     "output_type": "stream",
     "text": [
      "grouped trainData shape:  (318050, 8)\n"
     ]
    },
    {
     "data": {
      "text/html": [
       "<table border=\"1\" class=\"dataframe\">\n",
       "  <thead>\n",
       "    <tr style=\"text-align: right;\">\n",
       "      <th></th>\n",
       "      <th>user_id</th>\n",
       "      <th>product_id</th>\n",
       "      <th>allDiffDay</th>\n",
       "      <th>LenOfList</th>\n",
       "      <th>allGoneDay</th>\n",
       "      <th>LastDate</th>\n",
       "      <th>ProductProbPerUser</th>\n",
       "      <th>ProductProb</th>\n",
       "    </tr>\n",
       "  </thead>\n",
       "  <tbody>\n",
       "    <tr>\n",
       "      <th>318044</th>\n",
       "      <td>45339741</td>\n",
       "      <td>975982</td>\n",
       "      <td>[nan, 12.0, 19.0, 19.0, 8.0, 44.0, 36.0, 18.0, 27.0]</td>\n",
       "      <td>9</td>\n",
       "      <td>[58, 70, 89, 108, 116, 160, 196, 214, 241]</td>\n",
       "      <td>2019-08-30</td>\n",
       "      <td>0.692308</td>\n",
       "      <td>0.0275</td>\n",
       "    </tr>\n",
       "    <tr>\n",
       "      <th>318045</th>\n",
       "      <td>45431507</td>\n",
       "      <td>4375282</td>\n",
       "      <td>[nan, 73.0, 21.0]</td>\n",
       "      <td>3</td>\n",
       "      <td>[97, 170, 191]</td>\n",
       "      <td>2019-07-11</td>\n",
       "      <td>1.000000</td>\n",
       "      <td>0.1068</td>\n",
       "    </tr>\n",
       "    <tr>\n",
       "      <th>318046</th>\n",
       "      <td>45443053</td>\n",
       "      <td>1660612</td>\n",
       "      <td>[nan, 0.0, 1.0, 1.0, 1.0, 0.0, 1.0, 1.0, 0.0, 7.0, 0.0, 0.0, 0.0, 1.0, 12.0, 6.0, 11.0, 1.0, 1.0, 0.0, 13.0, 0.0, 3.0, 0.0, 2.0, 0.0, 1.0, 3.0, 0.0, 3.0, 4.0, 2.0, 1.0, 1.0, 0.0, 0.0, 1.0, 2.0, 4.0, 2.0, 1.0, 17.0, 0.0, 0.0]</td>\n",
       "      <td>44</td>\n",
       "      <td>[253, 253, 254, 255, 256, 256, 257, 258, 258, 265, 265, 265, 265, 266, 278, 284, 295, 296, 297, 297, 310, 310, 313, 313, 315, 315, 316, 319, 319, 322, 326, 328, 329, 330, 330, 330, 331, 333, 337, 339, 340, 357, 357, 357]</td>\n",
       "      <td>2019-12-24</td>\n",
       "      <td>1.000000</td>\n",
       "      <td>0.4454</td>\n",
       "    </tr>\n",
       "    <tr>\n",
       "      <th>318047</th>\n",
       "      <td>45471482</td>\n",
       "      <td>1945563</td>\n",
       "      <td>[nan, 10.0, 18.0]</td>\n",
       "      <td>3</td>\n",
       "      <td>[47, 57, 75]</td>\n",
       "      <td>2019-03-17</td>\n",
       "      <td>0.250000</td>\n",
       "      <td>0.0003</td>\n",
       "    </tr>\n",
       "    <tr>\n",
       "      <th>318048</th>\n",
       "      <td>45471482</td>\n",
       "      <td>3309954</td>\n",
       "      <td>[nan, 8.0, 3.0]</td>\n",
       "      <td>3</td>\n",
       "      <td>[303, 311, 314]</td>\n",
       "      <td>2019-11-11</td>\n",
       "      <td>0.250000</td>\n",
       "      <td>0.0001</td>\n",
       "    </tr>\n",
       "    <tr>\n",
       "      <th>318049</th>\n",
       "      <td>45471482</td>\n",
       "      <td>4563945</td>\n",
       "      <td>[nan, 3.0, 13.0, 12.0, 12.0, 1.0]</td>\n",
       "      <td>6</td>\n",
       "      <td>[273, 276, 289, 301, 313, 314]</td>\n",
       "      <td>2019-11-11</td>\n",
       "      <td>0.500000</td>\n",
       "      <td>0.0001</td>\n",
       "    </tr>\n",
       "  </tbody>\n",
       "</table>"
      ],
      "text/plain": [
       "<IPython.core.display.HTML object>"
      ]
     },
     "metadata": {},
     "output_type": "display_data"
    },
    {
     "name": "stdout",
     "output_type": "stream",
     "text": [
      "NA in the grouped dataFrame?\n"
     ]
    },
    {
     "data": {
      "text/plain": [
       "user_id               0\n",
       "product_id            0\n",
       "allDiffDay            0\n",
       "LenOfList             0\n",
       "allGoneDay            0\n",
       "LastDate              0\n",
       "ProductProbPerUser    0\n",
       "ProductProb           0\n",
       "dtype: int64"
      ]
     },
     "metadata": {},
     "output_type": "display_data"
    },
    {
     "name": "stdout",
     "output_type": "stream",
     "text": [
      "productProb:  (41127, 2)\n"
     ]
    },
    {
     "data": {
      "text/html": [
       "<table border=\"1\" class=\"dataframe\">\n",
       "  <thead>\n",
       "    <tr style=\"text-align: right;\">\n",
       "      <th></th>\n",
       "      <th>product_id</th>\n",
       "      <th>ProductProb</th>\n",
       "    </tr>\n",
       "  </thead>\n",
       "  <tbody>\n",
       "    <tr>\n",
       "      <th>41121</th>\n",
       "      <td>920116</td>\n",
       "      <td>0.0001</td>\n",
       "    </tr>\n",
       "    <tr>\n",
       "      <th>41122</th>\n",
       "      <td>1617100</td>\n",
       "      <td>0.0001</td>\n",
       "    </tr>\n",
       "    <tr>\n",
       "      <th>41123</th>\n",
       "      <td>2174092</td>\n",
       "      <td>0.0001</td>\n",
       "    </tr>\n",
       "    <tr>\n",
       "      <th>41124</th>\n",
       "      <td>932219</td>\n",
       "      <td>0.0001</td>\n",
       "    </tr>\n",
       "    <tr>\n",
       "      <th>41125</th>\n",
       "      <td>4470836</td>\n",
       "      <td>0.0001</td>\n",
       "    </tr>\n",
       "    <tr>\n",
       "      <th>41126</th>\n",
       "      <td>5417760</td>\n",
       "      <td>0.0001</td>\n",
       "    </tr>\n",
       "  </tbody>\n",
       "</table>"
      ],
      "text/plain": [
       "<IPython.core.display.HTML object>"
      ]
     },
     "metadata": {},
     "output_type": "display_data"
    },
    {
     "name": "stdout",
     "output_type": "stream",
     "text": [
      "grouped ALLdata shape:  (318050, 8)\n"
     ]
    },
    {
     "data": {
      "text/html": [
       "<table border=\"1\" class=\"dataframe\">\n",
       "  <thead>\n",
       "    <tr style=\"text-align: right;\">\n",
       "      <th></th>\n",
       "      <th>user_id</th>\n",
       "      <th>product_id</th>\n",
       "      <th>allDiffDay</th>\n",
       "      <th>LenOfList</th>\n",
       "      <th>allGoneDay</th>\n",
       "      <th>LastDate</th>\n",
       "      <th>ProductProbPerUser</th>\n",
       "      <th>ProductProb</th>\n",
       "    </tr>\n",
       "  </thead>\n",
       "  <tbody>\n",
       "    <tr>\n",
       "      <th>318044</th>\n",
       "      <td>45339741</td>\n",
       "      <td>975982</td>\n",
       "      <td>[nan, 12.0, 19.0, 19.0, 8.0, 44.0, 36.0, 18.0, 27.0, 70.0]</td>\n",
       "      <td>10</td>\n",
       "      <td>[58, 70, 89, 108, 116, 160, 196, 214, 241, 311]</td>\n",
       "      <td>2019-11-08</td>\n",
       "      <td>0.666667</td>\n",
       "      <td>0.0319</td>\n",
       "    </tr>\n",
       "    <tr>\n",
       "      <th>318045</th>\n",
       "      <td>45431507</td>\n",
       "      <td>4375282</td>\n",
       "      <td>[nan, 73.0, 21.0, 47.0]</td>\n",
       "      <td>4</td>\n",
       "      <td>[97, 170, 191, 238]</td>\n",
       "      <td>2019-08-27</td>\n",
       "      <td>1.000000</td>\n",
       "      <td>0.1278</td>\n",
       "    </tr>\n",
       "    <tr>\n",
       "      <th>318046</th>\n",
       "      <td>45443053</td>\n",
       "      <td>1660612</td>\n",
       "      <td>[nan, 0.0, 1.0, 1.0, 1.0, 0.0, 1.0, 1.0, 0.0, 7.0, 0.0, 0.0, 0.0, 1.0, 12.0, 6.0, 11.0, 1.0, 1.0, 0.0, 13.0, 0.0, 3.0, 0.0, 2.0, 0.0, 1.0, 3.0, 0.0, 3.0, 4.0, 2.0, 1.0, 1.0, 0.0, 0.0, 1.0, 2.0, 4.0, 2.0, 1.0, 17.0, 0.0, 0.0, 0.0]</td>\n",
       "      <td>45</td>\n",
       "      <td>[253, 253, 254, 255, 256, 256, 257, 258, 258, 265, 265, 265, 265, 266, 278, 284, 295, 296, 297, 297, 310, 310, 313, 313, 315, 315, 316, 319, 319, 322, 326, 328, 329, 330, 330, 330, 331, 333, 337, 339, 340, 357, 357, 357, 357]</td>\n",
       "      <td>2019-12-24</td>\n",
       "      <td>1.000000</td>\n",
       "      <td>0.5007</td>\n",
       "    </tr>\n",
       "    <tr>\n",
       "      <th>318047</th>\n",
       "      <td>45471482</td>\n",
       "      <td>1945563</td>\n",
       "      <td>[nan, 10.0, 18.0, 146.0]</td>\n",
       "      <td>4</td>\n",
       "      <td>[47, 57, 75, 221]</td>\n",
       "      <td>2019-08-10</td>\n",
       "      <td>0.266667</td>\n",
       "      <td>0.0003</td>\n",
       "    </tr>\n",
       "    <tr>\n",
       "      <th>318048</th>\n",
       "      <td>45471482</td>\n",
       "      <td>3309954</td>\n",
       "      <td>[nan, 8.0, 3.0, 4.0]</td>\n",
       "      <td>4</td>\n",
       "      <td>[303, 311, 314, 318]</td>\n",
       "      <td>2019-11-15</td>\n",
       "      <td>0.266667</td>\n",
       "      <td>0.0001</td>\n",
       "    </tr>\n",
       "    <tr>\n",
       "      <th>318049</th>\n",
       "      <td>45471482</td>\n",
       "      <td>4563945</td>\n",
       "      <td>[nan, 3.0, 13.0, 12.0, 12.0, 1.0, 4.0]</td>\n",
       "      <td>7</td>\n",
       "      <td>[273, 276, 289, 301, 313, 314, 318]</td>\n",
       "      <td>2019-11-15</td>\n",
       "      <td>0.466667</td>\n",
       "      <td>0.0002</td>\n",
       "    </tr>\n",
       "  </tbody>\n",
       "</table>"
      ],
      "text/plain": [
       "<IPython.core.display.HTML object>"
      ]
     },
     "metadata": {},
     "output_type": "display_data"
    },
    {
     "name": "stdout",
     "output_type": "stream",
     "text": [
      "NA in the grouped dataFrame?\n"
     ]
    },
    {
     "data": {
      "text/plain": [
       "user_id               0\n",
       "product_id            0\n",
       "allDiffDay            0\n",
       "LenOfList             0\n",
       "allGoneDay            0\n",
       "LastDate              0\n",
       "ProductProbPerUser    0\n",
       "ProductProb           0\n",
       "dtype: int64"
      ]
     },
     "metadata": {},
     "output_type": "display_data"
    }
   ],
   "source": [
    "def grouping_addTarget(dataname,data):\n",
    "    groupeddf = data.groupby(['user_id','product_id'],as_index=False).agg(allDiffDay =('diffDay',lambda x: x.tolist()),\n",
    "                                                                     LenOfList =('diffDay','size'),\n",
    "                                                                    allGoneDay=('GoneDays',lambda x: x.tolist()),\n",
    "                                                                      LastDate = ('created_at','max'))\n",
    "    \n",
    "    \n",
    "    \n",
    "    groupeddf['ProductProbPerUser'] = groupeddf.groupby('user_id',as_index=False)['LenOfList'].transform(lambda x:x/np.nansum(x))\n",
    "    \n",
    "    productProb = pd.DataFrame(data['product_id'].value_counts()).reset_index()\n",
    "    productProb.columns=['product_id','ProductProb']\n",
    "    productProb['ProductProb'] = (productProb['ProductProb']/len(productProb['ProductProb']) ).round(4)\n",
    "    print('productProb: ',productProb.shape)\n",
    "    display(HTML(productProb.tail(6).to_html()))\n",
    "\n",
    "    groupeddf=pd.merge(left=groupeddf,right=productProb,how='left',on='product_id')\n",
    "    \n",
    "    print('grouped '+dataname+' shape: ',groupeddf.shape)\n",
    "    with pd.option_context('display.max_rows', 100, 'display.max_columns', 10,'max_colwidth', None):\n",
    "        display(HTML(groupeddf.tail(6).to_html()))\n",
    "    \n",
    "    print('NA in the grouped dataFrame?')\n",
    "    display(groupeddf.isna().sum())\n",
    "\n",
    "    return groupeddf\n",
    "\n",
    "groupedTrainDataset = grouping_addTarget('trainData',trainData)\n",
    "groupedALLdata = grouping_addTarget('ALLdata',ALLdata)"
   ]
  },
  {
   "cell_type": "markdown",
   "id": "1338b212",
   "metadata": {
    "papermill": {
     "duration": 0.010549,
     "end_time": "2022-07-19T14:42:25.550911",
     "exception": false,
     "start_time": "2022-07-19T14:42:25.540362",
     "status": "completed"
    },
    "tags": []
   },
   "source": [
    "### ---------------------------------------------------------------------"
   ]
  },
  {
   "cell_type": "markdown",
   "id": "27dfc25f",
   "metadata": {
    "papermill": {
     "duration": 0.010474,
     "end_time": "2022-07-19T14:42:25.572160",
     "exception": false,
     "start_time": "2022-07-19T14:42:25.561686",
     "status": "completed"
    },
    "tags": []
   },
   "source": [
    "### Extract some features for each product and for each user. NoWindow aproach."
   ]
  },
  {
   "cell_type": "code",
   "execution_count": 5,
   "id": "3ee049a0",
   "metadata": {
    "execution": {
     "iopub.execute_input": "2022-07-19T14:42:25.595432Z",
     "iopub.status.busy": "2022-07-19T14:42:25.594992Z",
     "iopub.status.idle": "2022-07-19T14:42:25.603292Z",
     "shell.execute_reply": "2022-07-19T14:42:25.602064Z"
    },
    "papermill": {
     "duration": 0.022509,
     "end_time": "2022-07-19T14:42:25.605345",
     "exception": false,
     "start_time": "2022-07-19T14:42:25.582836",
     "status": "completed"
    },
    "tags": []
   },
   "outputs": [],
   "source": [
    "def extractToApply(x):\n",
    "    x['avgDiffDay'] = np.nanmean(x['allDiffDay'])\n",
    "    x['stdDiffDay'] = np.nanstd(x['allDiffDay'])\n",
    "    x['maxDiffDay'] = np.nanmax(x['allDiffDay'])\n",
    "    x['minDiffDay'] = np.nanmin(x['allDiffDay'])\n",
    "    \n",
    "    x['maxGoneDay'] = np.nanmax(x['allGoneDay'])\n",
    "    x['minGoneDay'] = np.nanmin(x['allGoneDay'])\n",
    "    x['medianGoneDay'] = np.nanmedian(x['allGoneDay'])\n",
    "    x['stdGoneDay'] = np.nanstd(x['allGoneDay'])\n",
    "    \n",
    "    return x"
   ]
  },
  {
   "cell_type": "markdown",
   "id": "f5041838",
   "metadata": {
    "papermill": {
     "duration": 0.01088,
     "end_time": "2022-07-19T14:42:25.626705",
     "exception": false,
     "start_time": "2022-07-19T14:42:25.615825",
     "status": "completed"
    },
    "tags": []
   },
   "source": [
    "#### For \"groupedTrainDataset\""
   ]
  },
  {
   "cell_type": "code",
   "execution_count": 6,
   "id": "de16fffd",
   "metadata": {
    "execution": {
     "iopub.execute_input": "2022-07-19T14:42:25.650010Z",
     "iopub.status.busy": "2022-07-19T14:42:25.649655Z",
     "iopub.status.idle": "2022-07-19T14:42:25.656373Z",
     "shell.execute_reply": "2022-07-19T14:42:25.655517Z"
    },
    "papermill": {
     "duration": 0.021046,
     "end_time": "2022-07-19T14:42:25.658579",
     "exception": false,
     "start_time": "2022-07-19T14:42:25.637533",
     "status": "completed"
    },
    "tags": []
   },
   "outputs": [
    {
     "data": {
      "text/plain": [
       "['targetFor_trainProductUserdf.csv', '__notebook__.ipynb']"
      ]
     },
     "execution_count": 6,
     "metadata": {},
     "output_type": "execute_result"
    }
   ],
   "source": [
    "import os\n",
    "workingDirfiles=[]\n",
    "for dirname, _, filenames in os.walk('/kaggle/working'):\n",
    "    for filename in filenames:\n",
    "        workingDirfiles.append(filename)\n",
    "workingDirfiles"
   ]
  },
  {
   "cell_type": "code",
   "execution_count": 7,
   "id": "e8a4c3d8",
   "metadata": {
    "execution": {
     "iopub.execute_input": "2022-07-19T14:42:25.681852Z",
     "iopub.status.busy": "2022-07-19T14:42:25.681275Z",
     "iopub.status.idle": "2022-07-19T15:10:34.452682Z",
     "shell.execute_reply": "2022-07-19T15:10:34.451268Z"
    },
    "papermill": {
     "duration": 1688.796844,
     "end_time": "2022-07-19T15:10:34.465897",
     "exception": false,
     "start_time": "2022-07-19T14:42:25.669053",
     "status": "completed"
    },
    "tags": []
   },
   "outputs": [
    {
     "name": "stdout",
     "output_type": "stream",
     "text": [
      "(318050, 16)\n"
     ]
    },
    {
     "data": {
      "text/html": [
       "<table border=\"1\" class=\"dataframe\">\n",
       "  <thead>\n",
       "    <tr style=\"text-align: right;\">\n",
       "      <th></th>\n",
       "      <th>user_id</th>\n",
       "      <th>product_id</th>\n",
       "      <th>allDiffDay</th>\n",
       "      <th>LenOfList</th>\n",
       "      <th>allGoneDay</th>\n",
       "      <th>LastDate</th>\n",
       "      <th>ProductProbPerUser</th>\n",
       "      <th>ProductProb</th>\n",
       "      <th>avgDiffDay</th>\n",
       "      <th>stdDiffDay</th>\n",
       "      <th>maxDiffDay</th>\n",
       "      <th>minDiffDay</th>\n",
       "      <th>maxGoneDay</th>\n",
       "      <th>minGoneDay</th>\n",
       "      <th>medianGoneDay</th>\n",
       "      <th>stdGoneDay</th>\n",
       "    </tr>\n",
       "  </thead>\n",
       "  <tbody>\n",
       "    <tr>\n",
       "      <th>318045</th>\n",
       "      <td>45431507</td>\n",
       "      <td>4375282</td>\n",
       "      <td>[nan, 73.0, 21.0]</td>\n",
       "      <td>3</td>\n",
       "      <td>[97, 170, 191]</td>\n",
       "      <td>2019-07-11</td>\n",
       "      <td>1.00</td>\n",
       "      <td>0.1068</td>\n",
       "      <td>47.000000</td>\n",
       "      <td>26.000000</td>\n",
       "      <td>73.0</td>\n",
       "      <td>21.0</td>\n",
       "      <td>191</td>\n",
       "      <td>97</td>\n",
       "      <td>170.0</td>\n",
       "      <td>40.285095</td>\n",
       "    </tr>\n",
       "    <tr>\n",
       "      <th>318046</th>\n",
       "      <td>45443053</td>\n",
       "      <td>1660612</td>\n",
       "      <td>[nan, 0.0, 1.0, 1.0, 1.0, 0.0, 1.0, 1.0, 0.0, 7.0, 0.0, 0.0, 0.0, 1.0, 12.0, 6.0, 11.0, 1.0, 1.0, 0.0, 13.0, 0.0, 3.0, 0.0, 2.0, 0.0, 1.0, 3.0, 0.0, 3.0, 4.0, 2.0, 1.0, 1.0, 0.0, 0.0, 1.0, 2.0, 4.0, 2.0, 1.0, 17.0, 0.0, 0.0]</td>\n",
       "      <td>44</td>\n",
       "      <td>[253, 253, 254, 255, 256, 256, 257, 258, 258, 265, 265, 265, 265, 266, 278, 284, 295, 296, 297, 297, 310, 310, 313, 313, 315, 315, 316, 319, 319, 322, 326, 328, 329, 330, 330, 330, 331, 333, 337, 339, 340, 357, 357, 357]</td>\n",
       "      <td>2019-12-24</td>\n",
       "      <td>1.00</td>\n",
       "      <td>0.4454</td>\n",
       "      <td>2.418605</td>\n",
       "      <td>3.871377</td>\n",
       "      <td>17.0</td>\n",
       "      <td>0.0</td>\n",
       "      <td>357</td>\n",
       "      <td>253</td>\n",
       "      <td>311.5</td>\n",
       "      <td>33.147889</td>\n",
       "    </tr>\n",
       "    <tr>\n",
       "      <th>318047</th>\n",
       "      <td>45471482</td>\n",
       "      <td>1945563</td>\n",
       "      <td>[nan, 10.0, 18.0]</td>\n",
       "      <td>3</td>\n",
       "      <td>[47, 57, 75]</td>\n",
       "      <td>2019-03-17</td>\n",
       "      <td>0.25</td>\n",
       "      <td>0.0003</td>\n",
       "      <td>14.000000</td>\n",
       "      <td>4.000000</td>\n",
       "      <td>18.0</td>\n",
       "      <td>10.0</td>\n",
       "      <td>75</td>\n",
       "      <td>47</td>\n",
       "      <td>57.0</td>\n",
       "      <td>11.585431</td>\n",
       "    </tr>\n",
       "    <tr>\n",
       "      <th>318048</th>\n",
       "      <td>45471482</td>\n",
       "      <td>3309954</td>\n",
       "      <td>[nan, 8.0, 3.0]</td>\n",
       "      <td>3</td>\n",
       "      <td>[303, 311, 314]</td>\n",
       "      <td>2019-11-11</td>\n",
       "      <td>0.25</td>\n",
       "      <td>0.0001</td>\n",
       "      <td>5.500000</td>\n",
       "      <td>2.500000</td>\n",
       "      <td>8.0</td>\n",
       "      <td>3.0</td>\n",
       "      <td>314</td>\n",
       "      <td>303</td>\n",
       "      <td>311.0</td>\n",
       "      <td>4.642796</td>\n",
       "    </tr>\n",
       "    <tr>\n",
       "      <th>318049</th>\n",
       "      <td>45471482</td>\n",
       "      <td>4563945</td>\n",
       "      <td>[nan, 3.0, 13.0, 12.0, 12.0, 1.0]</td>\n",
       "      <td>6</td>\n",
       "      <td>[273, 276, 289, 301, 313, 314]</td>\n",
       "      <td>2019-11-11</td>\n",
       "      <td>0.50</td>\n",
       "      <td>0.0001</td>\n",
       "      <td>8.200000</td>\n",
       "      <td>5.114685</td>\n",
       "      <td>13.0</td>\n",
       "      <td>1.0</td>\n",
       "      <td>314</td>\n",
       "      <td>273</td>\n",
       "      <td>295.0</td>\n",
       "      <td>16.326529</td>\n",
       "    </tr>\n",
       "  </tbody>\n",
       "</table>"
      ],
      "text/plain": [
       "<IPython.core.display.HTML object>"
      ]
     },
     "metadata": {},
     "output_type": "display_data"
    }
   ],
   "source": [
    "fileName = 'trainProductUserdf_addedSomeFeatures.csv'\n",
    "if fileName in workingDirfiles:\n",
    "    trainProductUserdf = pd.read_csv('/kaggle/working/'+fileName)\n",
    "else:\n",
    "    trainProductUserdf = groupedTrainDataset.apply(extractToApply,axis=1)\n",
    "print(trainProductUserdf.shape)\n",
    "with pd.option_context('display.max_rows', 100, 'display.max_columns', 10,'max_colwidth', None):\n",
    "    display(HTML(trainProductUserdf.tail(5).to_html()))"
   ]
  },
  {
   "cell_type": "code",
   "execution_count": 8,
   "id": "4cc3e30a",
   "metadata": {
    "execution": {
     "iopub.execute_input": "2022-07-19T15:10:34.489876Z",
     "iopub.status.busy": "2022-07-19T15:10:34.489275Z",
     "iopub.status.idle": "2022-07-19T15:10:34.493172Z",
     "shell.execute_reply": "2022-07-19T15:10:34.492354Z"
    },
    "papermill": {
     "duration": 0.01865,
     "end_time": "2022-07-19T15:10:34.495301",
     "exception": false,
     "start_time": "2022-07-19T15:10:34.476651",
     "status": "completed"
    },
    "tags": []
   },
   "outputs": [],
   "source": [
    "#trainProductUserdf.to_csv('trainProductUserdf_addedSomeFeatures.csv',index=False)"
   ]
  },
  {
   "cell_type": "markdown",
   "id": "9221c72a",
   "metadata": {
    "papermill": {
     "duration": 0.010543,
     "end_time": "2022-07-19T15:10:34.516644",
     "exception": false,
     "start_time": "2022-07-19T15:10:34.506101",
     "status": "completed"
    },
    "tags": []
   },
   "source": [
    "#### For \"groupedALLdata\""
   ]
  },
  {
   "cell_type": "code",
   "execution_count": 9,
   "id": "e6162ba7",
   "metadata": {
    "execution": {
     "iopub.execute_input": "2022-07-19T15:10:34.540411Z",
     "iopub.status.busy": "2022-07-19T15:10:34.539990Z",
     "iopub.status.idle": "2022-07-19T15:38:10.535975Z",
     "shell.execute_reply": "2022-07-19T15:38:10.534564Z"
    },
    "papermill": {
     "duration": 1656.017878,
     "end_time": "2022-07-19T15:38:10.545409",
     "exception": false,
     "start_time": "2022-07-19T15:10:34.527531",
     "status": "completed"
    },
    "tags": []
   },
   "outputs": [
    {
     "name": "stdout",
     "output_type": "stream",
     "text": [
      "(318050, 16)\n"
     ]
    },
    {
     "data": {
      "text/html": [
       "<table border=\"1\" class=\"dataframe\">\n",
       "  <thead>\n",
       "    <tr style=\"text-align: right;\">\n",
       "      <th></th>\n",
       "      <th>user_id</th>\n",
       "      <th>product_id</th>\n",
       "      <th>allDiffDay</th>\n",
       "      <th>LenOfList</th>\n",
       "      <th>allGoneDay</th>\n",
       "      <th>LastDate</th>\n",
       "      <th>ProductProbPerUser</th>\n",
       "      <th>ProductProb</th>\n",
       "      <th>avgDiffDay</th>\n",
       "      <th>stdDiffDay</th>\n",
       "      <th>maxDiffDay</th>\n",
       "      <th>minDiffDay</th>\n",
       "      <th>maxGoneDay</th>\n",
       "      <th>minGoneDay</th>\n",
       "      <th>medianGoneDay</th>\n",
       "      <th>stdGoneDay</th>\n",
       "    </tr>\n",
       "  </thead>\n",
       "  <tbody>\n",
       "    <tr>\n",
       "      <th>318045</th>\n",
       "      <td>45431507</td>\n",
       "      <td>4375282</td>\n",
       "      <td>[nan, 73.0, 21.0, 47.0]</td>\n",
       "      <td>4</td>\n",
       "      <td>[97, 170, 191, 238]</td>\n",
       "      <td>2019-08-27</td>\n",
       "      <td>1.000000</td>\n",
       "      <td>0.1278</td>\n",
       "      <td>47.000000</td>\n",
       "      <td>21.228911</td>\n",
       "      <td>73.0</td>\n",
       "      <td>21.0</td>\n",
       "      <td>238</td>\n",
       "      <td>97</td>\n",
       "      <td>180.5</td>\n",
       "      <td>50.818304</td>\n",
       "    </tr>\n",
       "    <tr>\n",
       "      <th>318046</th>\n",
       "      <td>45443053</td>\n",
       "      <td>1660612</td>\n",
       "      <td>[nan, 0.0, 1.0, 1.0, 1.0, 0.0, 1.0, 1.0, 0.0, 7.0, 0.0, 0.0, 0.0, 1.0, 12.0, 6.0, 11.0, 1.0, 1.0, 0.0, 13.0, 0.0, 3.0, 0.0, 2.0, 0.0, 1.0, 3.0, 0.0, 3.0, 4.0, 2.0, 1.0, 1.0, 0.0, 0.0, 1.0, 2.0, 4.0, 2.0, 1.0, 17.0, 0.0, 0.0, 0.0]</td>\n",
       "      <td>45</td>\n",
       "      <td>[253, 253, 254, 255, 256, 256, 257, 258, 258, 265, 265, 265, 265, 266, 278, 284, 295, 296, 297, 297, 310, 310, 313, 313, 315, 315, 316, 319, 319, 322, 326, 328, 329, 330, 330, 330, 331, 333, 337, 339, 340, 357, 357, 357, 357]</td>\n",
       "      <td>2019-12-24</td>\n",
       "      <td>1.000000</td>\n",
       "      <td>0.5007</td>\n",
       "      <td>2.363636</td>\n",
       "      <td>3.844068</td>\n",
       "      <td>17.0</td>\n",
       "      <td>0.0</td>\n",
       "      <td>357</td>\n",
       "      <td>253</td>\n",
       "      <td>313.0</td>\n",
       "      <td>33.796881</td>\n",
       "    </tr>\n",
       "    <tr>\n",
       "      <th>318047</th>\n",
       "      <td>45471482</td>\n",
       "      <td>1945563</td>\n",
       "      <td>[nan, 10.0, 18.0, 146.0]</td>\n",
       "      <td>4</td>\n",
       "      <td>[47, 57, 75, 221]</td>\n",
       "      <td>2019-08-10</td>\n",
       "      <td>0.266667</td>\n",
       "      <td>0.0003</td>\n",
       "      <td>58.000000</td>\n",
       "      <td>62.311048</td>\n",
       "      <td>146.0</td>\n",
       "      <td>10.0</td>\n",
       "      <td>221</td>\n",
       "      <td>47</td>\n",
       "      <td>66.0</td>\n",
       "      <td>70.576200</td>\n",
       "    </tr>\n",
       "    <tr>\n",
       "      <th>318048</th>\n",
       "      <td>45471482</td>\n",
       "      <td>3309954</td>\n",
       "      <td>[nan, 8.0, 3.0, 4.0]</td>\n",
       "      <td>4</td>\n",
       "      <td>[303, 311, 314, 318]</td>\n",
       "      <td>2019-11-15</td>\n",
       "      <td>0.266667</td>\n",
       "      <td>0.0001</td>\n",
       "      <td>5.000000</td>\n",
       "      <td>2.160247</td>\n",
       "      <td>8.0</td>\n",
       "      <td>3.0</td>\n",
       "      <td>318</td>\n",
       "      <td>303</td>\n",
       "      <td>312.5</td>\n",
       "      <td>5.500000</td>\n",
       "    </tr>\n",
       "    <tr>\n",
       "      <th>318049</th>\n",
       "      <td>45471482</td>\n",
       "      <td>4563945</td>\n",
       "      <td>[nan, 3.0, 13.0, 12.0, 12.0, 1.0, 4.0]</td>\n",
       "      <td>7</td>\n",
       "      <td>[273, 276, 289, 301, 313, 314, 318]</td>\n",
       "      <td>2019-11-15</td>\n",
       "      <td>0.466667</td>\n",
       "      <td>0.0002</td>\n",
       "      <td>7.500000</td>\n",
       "      <td>4.924429</td>\n",
       "      <td>13.0</td>\n",
       "      <td>1.0</td>\n",
       "      <td>318</td>\n",
       "      <td>273</td>\n",
       "      <td>301.0</td>\n",
       "      <td>17.235464</td>\n",
       "    </tr>\n",
       "  </tbody>\n",
       "</table>"
      ],
      "text/plain": [
       "<IPython.core.display.HTML object>"
      ]
     },
     "metadata": {},
     "output_type": "display_data"
    }
   ],
   "source": [
    "fileName = 'ALLdataProductUserdf_addedSomeFeatures.csv'\n",
    "if fileName in workingDirfiles:\n",
    "    ALLdataProductUserdf = pd.read_csv('/kaggle/working/'+fileName)\n",
    "else:\n",
    "    ALLdataProductUserdf = groupedALLdata.apply(extractToApply,axis=1)\n",
    "print(ALLdataProductUserdf.shape)\n",
    "with pd.option_context('display.max_rows', 100, 'display.max_columns', 10,'max_colwidth', None):\n",
    "    display(HTML(ALLdataProductUserdf.tail(5).to_html()))"
   ]
  },
  {
   "cell_type": "code",
   "execution_count": 10,
   "id": "61b1385e",
   "metadata": {
    "execution": {
     "iopub.execute_input": "2022-07-19T15:38:10.570342Z",
     "iopub.status.busy": "2022-07-19T15:38:10.569130Z",
     "iopub.status.idle": "2022-07-19T15:38:10.576074Z",
     "shell.execute_reply": "2022-07-19T15:38:10.573960Z"
    },
    "papermill": {
     "duration": 0.022394,
     "end_time": "2022-07-19T15:38:10.578954",
     "exception": false,
     "start_time": "2022-07-19T15:38:10.556560",
     "status": "completed"
    },
    "tags": []
   },
   "outputs": [],
   "source": [
    "#ALLdataProductUserdf.to_csv('ALLdataProductUserdf_addedSomeFeatures.csv',index=False)"
   ]
  },
  {
   "cell_type": "markdown",
   "id": "d61841c5",
   "metadata": {
    "papermill": {
     "duration": 0.010886,
     "end_time": "2022-07-19T15:38:10.601092",
     "exception": false,
     "start_time": "2022-07-19T15:38:10.590206",
     "status": "completed"
    },
    "tags": []
   },
   "source": [
    "### ----------------------------------------------------------------------------------"
   ]
  },
  {
   "cell_type": "markdown",
   "id": "770c8446",
   "metadata": {
    "papermill": {
     "duration": 0.010787,
     "end_time": "2022-07-19T15:38:10.623039",
     "exception": false,
     "start_time": "2022-07-19T15:38:10.612252",
     "status": "completed"
    },
    "tags": []
   },
   "source": [
    "#### convert Gone day of a year to datetime format. start from 2019-01-01"
   ]
  },
  {
   "cell_type": "code",
   "execution_count": 11,
   "id": "fe6c286c",
   "metadata": {
    "execution": {
     "iopub.execute_input": "2022-07-19T15:38:10.649355Z",
     "iopub.status.busy": "2022-07-19T15:38:10.648969Z",
     "iopub.status.idle": "2022-07-19T15:38:10.654376Z",
     "shell.execute_reply": "2022-07-19T15:38:10.653283Z"
    },
    "papermill": {
     "duration": 0.021326,
     "end_time": "2022-07-19T15:38:10.656503",
     "exception": false,
     "start_time": "2022-07-19T15:38:10.635177",
     "status": "completed"
    },
    "tags": []
   },
   "outputs": [],
   "source": [
    "def convert_goneDayTo_datetime(data,GoneDayColumn,startFrom='2019-01-01'):\n",
    "    return pd.to_datetime(data[GoneDayColumn],unit='D',origin=startFrom).dt.strftime('%Y-%m-%d')"
   ]
  },
  {
   "cell_type": "markdown",
   "id": "aa32e548",
   "metadata": {
    "papermill": {
     "duration": 0.011847,
     "end_time": "2022-07-19T15:38:10.679678",
     "exception": false,
     "start_time": "2022-07-19T15:38:10.667831",
     "status": "completed"
    },
    "tags": []
   },
   "source": [
    "#### Add Dummy prediction by (maxGoneDay+avgDiffDay)"
   ]
  },
  {
   "cell_type": "markdown",
   "id": "90f8e770",
   "metadata": {
    "papermill": {
     "duration": 0.010994,
     "end_time": "2022-07-19T15:38:10.702362",
     "exception": false,
     "start_time": "2022-07-19T15:38:10.691368",
     "status": "completed"
    },
    "tags": []
   },
   "source": [
    "### trainProductUserdf"
   ]
  },
  {
   "cell_type": "code",
   "execution_count": 12,
   "id": "89ff89d3",
   "metadata": {
    "execution": {
     "iopub.execute_input": "2022-07-19T15:38:10.734422Z",
     "iopub.status.busy": "2022-07-19T15:38:10.733166Z",
     "iopub.status.idle": "2022-07-19T15:38:13.238686Z",
     "shell.execute_reply": "2022-07-19T15:38:13.237184Z"
    },
    "papermill": {
     "duration": 2.525642,
     "end_time": "2022-07-19T15:38:13.241371",
     "exception": false,
     "start_time": "2022-07-19T15:38:10.715729",
     "status": "completed"
    },
    "tags": []
   },
   "outputs": [
    {
     "data": {
      "text/html": [
       "<table border=\"1\" class=\"dataframe\">\n",
       "  <thead>\n",
       "    <tr style=\"text-align: right;\">\n",
       "      <th></th>\n",
       "      <th>user_id</th>\n",
       "      <th>product_id</th>\n",
       "      <th>allDiffDay</th>\n",
       "      <th>LenOfList</th>\n",
       "      <th>allGoneDay</th>\n",
       "      <th>LastDate</th>\n",
       "      <th>ProductProbPerUser</th>\n",
       "      <th>ProductProb</th>\n",
       "      <th>avgDiffDay</th>\n",
       "      <th>stdDiffDay</th>\n",
       "      <th>maxDiffDay</th>\n",
       "      <th>minDiffDay</th>\n",
       "      <th>maxGoneDay</th>\n",
       "      <th>minGoneDay</th>\n",
       "      <th>medianGoneDay</th>\n",
       "      <th>stdGoneDay</th>\n",
       "      <th>dummyPrediction_goneDay</th>\n",
       "      <th>dummyPrediction_datetime</th>\n",
       "    </tr>\n",
       "  </thead>\n",
       "  <tbody>\n",
       "    <tr>\n",
       "      <th>318048</th>\n",
       "      <td>45471482</td>\n",
       "      <td>3309954</td>\n",
       "      <td>[nan, 8.0, 3.0]</td>\n",
       "      <td>3</td>\n",
       "      <td>[303, 311, 314]</td>\n",
       "      <td>2019-11-11</td>\n",
       "      <td>0.25</td>\n",
       "      <td>0.0001</td>\n",
       "      <td>5.5</td>\n",
       "      <td>2.500000</td>\n",
       "      <td>8.0</td>\n",
       "      <td>3.0</td>\n",
       "      <td>314</td>\n",
       "      <td>303</td>\n",
       "      <td>311.0</td>\n",
       "      <td>4.642796</td>\n",
       "      <td>319.5</td>\n",
       "      <td>2019-11-16</td>\n",
       "    </tr>\n",
       "    <tr>\n",
       "      <th>318049</th>\n",
       "      <td>45471482</td>\n",
       "      <td>4563945</td>\n",
       "      <td>[nan, 3.0, 13.0, 12.0, 12.0, 1.0]</td>\n",
       "      <td>6</td>\n",
       "      <td>[273, 276, 289, 301, 313, 314]</td>\n",
       "      <td>2019-11-11</td>\n",
       "      <td>0.50</td>\n",
       "      <td>0.0001</td>\n",
       "      <td>8.2</td>\n",
       "      <td>5.114685</td>\n",
       "      <td>13.0</td>\n",
       "      <td>1.0</td>\n",
       "      <td>314</td>\n",
       "      <td>273</td>\n",
       "      <td>295.0</td>\n",
       "      <td>16.326529</td>\n",
       "      <td>322.2</td>\n",
       "      <td>2019-11-19</td>\n",
       "    </tr>\n",
       "  </tbody>\n",
       "</table>"
      ],
      "text/plain": [
       "<IPython.core.display.HTML object>"
      ]
     },
     "metadata": {},
     "output_type": "display_data"
    }
   ],
   "source": [
    "trainProductUserdf['dummyPrediction_goneDay'] = trainProductUserdf['maxGoneDay']+trainProductUserdf['avgDiffDay']\n",
    "trainProductUserdf['dummyPrediction_datetime']= convert_goneDayTo_datetime(trainProductUserdf,'dummyPrediction_goneDay')\n",
    "with pd.option_context('display.max_rows', 100, 'display.max_columns', 10,'max_colwidth', None):\n",
    "    display(HTML(trainProductUserdf.tail(2).to_html()))"
   ]
  },
  {
   "cell_type": "code",
   "execution_count": 13,
   "id": "9052e2ea",
   "metadata": {
    "execution": {
     "iopub.execute_input": "2022-07-19T15:38:13.266147Z",
     "iopub.status.busy": "2022-07-19T15:38:13.265774Z",
     "iopub.status.idle": "2022-07-19T15:38:22.365863Z",
     "shell.execute_reply": "2022-07-19T15:38:22.364939Z"
    },
    "papermill": {
     "duration": 9.115567,
     "end_time": "2022-07-19T15:38:22.368503",
     "exception": false,
     "start_time": "2022-07-19T15:38:13.252936",
     "status": "completed"
    },
    "tags": []
   },
   "outputs": [],
   "source": [
    "trainProductUserdf.to_csv('trainProductUserdf_addedSomeFeatures_addedDummyPrediction.csv',index=False)"
   ]
  },
  {
   "cell_type": "markdown",
   "id": "b8b9fa5e",
   "metadata": {
    "papermill": {
     "duration": 0.011381,
     "end_time": "2022-07-19T15:38:22.391953",
     "exception": false,
     "start_time": "2022-07-19T15:38:22.380572",
     "status": "completed"
    },
    "tags": []
   },
   "source": [
    "### ALLdataProductUserdf"
   ]
  },
  {
   "cell_type": "code",
   "execution_count": 14,
   "id": "7281e01d",
   "metadata": {
    "execution": {
     "iopub.execute_input": "2022-07-19T15:38:22.418267Z",
     "iopub.status.busy": "2022-07-19T15:38:22.417442Z",
     "iopub.status.idle": "2022-07-19T15:38:24.880907Z",
     "shell.execute_reply": "2022-07-19T15:38:24.879715Z"
    },
    "papermill": {
     "duration": 2.479535,
     "end_time": "2022-07-19T15:38:24.883581",
     "exception": false,
     "start_time": "2022-07-19T15:38:22.404046",
     "status": "completed"
    },
    "tags": []
   },
   "outputs": [
    {
     "data": {
      "text/html": [
       "<table border=\"1\" class=\"dataframe\">\n",
       "  <thead>\n",
       "    <tr style=\"text-align: right;\">\n",
       "      <th></th>\n",
       "      <th>user_id</th>\n",
       "      <th>product_id</th>\n",
       "      <th>allDiffDay</th>\n",
       "      <th>LenOfList</th>\n",
       "      <th>allGoneDay</th>\n",
       "      <th>LastDate</th>\n",
       "      <th>ProductProbPerUser</th>\n",
       "      <th>ProductProb</th>\n",
       "      <th>avgDiffDay</th>\n",
       "      <th>stdDiffDay</th>\n",
       "      <th>maxDiffDay</th>\n",
       "      <th>minDiffDay</th>\n",
       "      <th>maxGoneDay</th>\n",
       "      <th>minGoneDay</th>\n",
       "      <th>medianGoneDay</th>\n",
       "      <th>stdGoneDay</th>\n",
       "      <th>dummyPrediction_goneDay</th>\n",
       "      <th>dummyPrediction_datetime</th>\n",
       "    </tr>\n",
       "  </thead>\n",
       "  <tbody>\n",
       "    <tr>\n",
       "      <th>318048</th>\n",
       "      <td>45471482</td>\n",
       "      <td>3309954</td>\n",
       "      <td>[nan, 8.0, 3.0, 4.0]</td>\n",
       "      <td>4</td>\n",
       "      <td>[303, 311, 314, 318]</td>\n",
       "      <td>2019-11-15</td>\n",
       "      <td>0.266667</td>\n",
       "      <td>0.0001</td>\n",
       "      <td>5.0</td>\n",
       "      <td>2.160247</td>\n",
       "      <td>8.0</td>\n",
       "      <td>3.0</td>\n",
       "      <td>318</td>\n",
       "      <td>303</td>\n",
       "      <td>312.5</td>\n",
       "      <td>5.500000</td>\n",
       "      <td>323.0</td>\n",
       "      <td>2019-11-20</td>\n",
       "    </tr>\n",
       "    <tr>\n",
       "      <th>318049</th>\n",
       "      <td>45471482</td>\n",
       "      <td>4563945</td>\n",
       "      <td>[nan, 3.0, 13.0, 12.0, 12.0, 1.0, 4.0]</td>\n",
       "      <td>7</td>\n",
       "      <td>[273, 276, 289, 301, 313, 314, 318]</td>\n",
       "      <td>2019-11-15</td>\n",
       "      <td>0.466667</td>\n",
       "      <td>0.0002</td>\n",
       "      <td>7.5</td>\n",
       "      <td>4.924429</td>\n",
       "      <td>13.0</td>\n",
       "      <td>1.0</td>\n",
       "      <td>318</td>\n",
       "      <td>273</td>\n",
       "      <td>301.0</td>\n",
       "      <td>17.235464</td>\n",
       "      <td>325.5</td>\n",
       "      <td>2019-11-22</td>\n",
       "    </tr>\n",
       "  </tbody>\n",
       "</table>"
      ],
      "text/plain": [
       "<IPython.core.display.HTML object>"
      ]
     },
     "metadata": {},
     "output_type": "display_data"
    }
   ],
   "source": [
    "ALLdataProductUserdf['dummyPrediction_goneDay'] = ALLdataProductUserdf['maxGoneDay']+ALLdataProductUserdf['avgDiffDay']\n",
    "ALLdataProductUserdf['dummyPrediction_datetime']= convert_goneDayTo_datetime(ALLdataProductUserdf,'dummyPrediction_goneDay')\n",
    "with pd.option_context('display.max_rows', 100, 'display.max_columns', 10,'max_colwidth', None):\n",
    "    display(HTML(ALLdataProductUserdf.tail(2).to_html()))"
   ]
  },
  {
   "cell_type": "code",
   "execution_count": 15,
   "id": "f2cb019f",
   "metadata": {
    "execution": {
     "iopub.execute_input": "2022-07-19T15:38:24.909788Z",
     "iopub.status.busy": "2022-07-19T15:38:24.909397Z",
     "iopub.status.idle": "2022-07-19T15:38:34.443548Z",
     "shell.execute_reply": "2022-07-19T15:38:34.442140Z"
    },
    "papermill": {
     "duration": 9.551119,
     "end_time": "2022-07-19T15:38:34.446523",
     "exception": false,
     "start_time": "2022-07-19T15:38:24.895404",
     "status": "completed"
    },
    "tags": []
   },
   "outputs": [],
   "source": [
    "ALLdataProductUserdf.to_csv('ALLdataProductUserdf_addedSomeFeatures_addedDummyPrediction.csv',index=False)"
   ]
  },
  {
   "cell_type": "markdown",
   "id": "cd2700e7",
   "metadata": {
    "papermill": {
     "duration": 0.011776,
     "end_time": "2022-07-19T15:38:34.470346",
     "exception": false,
     "start_time": "2022-07-19T15:38:34.458570",
     "status": "completed"
    },
    "tags": []
   },
   "source": [
    "### --------------------------------------------------------------------"
   ]
  },
  {
   "cell_type": "markdown",
   "id": "e0721ab1",
   "metadata": {
    "papermill": {
     "duration": 0.012368,
     "end_time": "2022-07-19T15:38:34.494517",
     "exception": false,
     "start_time": "2022-07-19T15:38:34.482149",
     "status": "completed"
    },
    "tags": []
   },
   "source": [
    "Now our task is make a model to predict next datetime that a customer will buy a specific product.\\\n",
    "We have two aproach to feature ectraction -> noWindow and window appraoches.\\\n",
    "After feature extraction -> make a prediction model to predict goneDay from base datetime(2019-01-01)."
   ]
  },
  {
   "cell_type": "markdown",
   "id": "cc3710bf",
   "metadata": {
    "papermill": {
     "duration": 0.012263,
     "end_time": "2022-07-19T15:38:34.518784",
     "exception": false,
     "start_time": "2022-07-19T15:38:34.506521",
     "status": "completed"
    },
    "tags": []
   },
   "source": [
    "NoWindow feature extraction is done in this notebook.\\\n",
    "Create window approach for additional features see this paper([link](https://www.researchgate.net/publication/346846529_Using_machine_learning_to_predict_the_next_purchase_date_for_an_individual_retail_customer)),these features will use on window version datetime presiction."
   ]
  },
  {
   "cell_type": "markdown",
   "id": "13c0d2ac",
   "metadata": {
    "papermill": {
     "duration": 0.012383,
     "end_time": "2022-07-19T15:38:34.543313",
     "exception": false,
     "start_time": "2022-07-19T15:38:34.530930",
     "status": "completed"
    },
    "tags": []
   },
   "source": [
    "Continue the codes in the next notebooks."
   ]
  },
  {
   "cell_type": "code",
   "execution_count": null,
   "id": "f113edd4",
   "metadata": {
    "papermill": {
     "duration": 0.011756,
     "end_time": "2022-07-19T15:38:34.566884",
     "exception": false,
     "start_time": "2022-07-19T15:38:34.555128",
     "status": "completed"
    },
    "tags": []
   },
   "outputs": [],
   "source": []
  }
 ],
 "metadata": {
  "kernelspec": {
   "display_name": "Python 3",
   "language": "python",
   "name": "python3"
  },
  "language_info": {
   "codemirror_mode": {
    "name": "ipython",
    "version": 3
   },
   "file_extension": ".py",
   "mimetype": "text/x-python",
   "name": "python",
   "nbconvert_exporter": "python",
   "pygments_lexer": "ipython3",
   "version": "3.7.12"
  },
  "papermill": {
   "default_parameters": {},
   "duration": 4159.856493,
   "end_time": "2022-07-19T15:38:36.213813",
   "environment_variables": {},
   "exception": null,
   "input_path": "__notebook__.ipynb",
   "output_path": "__notebook__.ipynb",
   "parameters": {},
   "start_time": "2022-07-19T14:29:16.357320",
   "version": "2.3.4"
  }
 },
 "nbformat": 4,
 "nbformat_minor": 5
}
