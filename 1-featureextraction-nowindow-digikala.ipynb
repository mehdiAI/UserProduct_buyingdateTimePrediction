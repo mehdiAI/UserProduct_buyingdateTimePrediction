{
 "cells": [
  {
   "cell_type": "code",
   "execution_count": 1,
   "id": "d1d5fc3c",
   "metadata": {
    "execution": {
     "iopub.execute_input": "2022-07-17T09:37:14.538737Z",
     "iopub.status.busy": "2022-07-17T09:37:14.538280Z",
     "iopub.status.idle": "2022-07-17T09:37:15.758093Z",
     "shell.execute_reply": "2022-07-17T09:37:15.756813Z"
    },
    "papermill": {
     "duration": 1.241282,
     "end_time": "2022-07-17T09:37:15.761137",
     "exception": false,
     "start_time": "2022-07-17T09:37:14.519855",
     "status": "completed"
    },
    "tags": []
   },
   "outputs": [],
   "source": [
    "import pandas as pd\n",
    "import numpy as np\n",
    "import matplotlib.pyplot as plt\n",
    "import seaborn as sns\n",
    "from IPython.display import display, HTML,clear_output"
   ]
  },
  {
   "cell_type": "code",
   "execution_count": 2,
   "id": "d2f8c159",
   "metadata": {
    "execution": {
     "iopub.execute_input": "2022-07-17T09:37:15.797006Z",
     "iopub.status.busy": "2022-07-17T09:37:15.796177Z",
     "iopub.status.idle": "2022-07-17T09:37:17.646407Z",
     "shell.execute_reply": "2022-07-17T09:37:17.645087Z"
    },
    "papermill": {
     "duration": 1.871353,
     "end_time": "2022-07-17T09:37:17.649373",
     "exception": false,
     "start_time": "2022-07-17T09:37:15.778020",
     "status": "completed"
    },
    "tags": []
   },
   "outputs": [
    {
     "name": "stdout",
     "output_type": "stream",
     "text": [
      "(2174447, 3)\n",
      "(318050, 2)\n"
     ]
    }
   ],
   "source": [
    "prHdf = pd.read_csv('../input/buyingHabitsOfDigiKalaUsers/purchase_history.csv')\n",
    "ansdf = pd.read_csv('../input/buyingHabitsOfDigiKalaUsers/answer.csv')\n",
    "print(prHdf.shape)\n",
    "print(ansdf.shape)"
   ]
  },
  {
   "cell_type": "code",
   "execution_count": 3,
   "id": "9aff91f9",
   "metadata": {
    "execution": {
     "iopub.execute_input": "2022-07-17T09:37:17.684474Z",
     "iopub.status.busy": "2022-07-17T09:37:17.683310Z",
     "iopub.status.idle": "2022-07-17T09:37:17.704500Z",
     "shell.execute_reply": "2022-07-17T09:37:17.703110Z"
    },
    "papermill": {
     "duration": 0.042878,
     "end_time": "2022-07-17T09:37:17.707851",
     "exception": false,
     "start_time": "2022-07-17T09:37:17.664973",
     "status": "completed"
    },
    "tags": []
   },
   "outputs": [
    {
     "data": {
      "text/html": [
       "<div>\n",
       "<style scoped>\n",
       "    .dataframe tbody tr th:only-of-type {\n",
       "        vertical-align: middle;\n",
       "    }\n",
       "\n",
       "    .dataframe tbody tr th {\n",
       "        vertical-align: top;\n",
       "    }\n",
       "\n",
       "    .dataframe thead th {\n",
       "        text-align: right;\n",
       "    }\n",
       "</style>\n",
       "<table border=\"1\" class=\"dataframe\">\n",
       "  <thead>\n",
       "    <tr style=\"text-align: right;\">\n",
       "      <th></th>\n",
       "      <th>user_id</th>\n",
       "      <th>product_id</th>\n",
       "      <th>created_at</th>\n",
       "    </tr>\n",
       "  </thead>\n",
       "  <tbody>\n",
       "    <tr>\n",
       "      <th>0</th>\n",
       "      <td>647746</td>\n",
       "      <td>2011564</td>\n",
       "      <td>2019-02-09</td>\n",
       "    </tr>\n",
       "    <tr>\n",
       "      <th>1</th>\n",
       "      <td>906136</td>\n",
       "      <td>4105782</td>\n",
       "      <td>2019-11-23</td>\n",
       "    </tr>\n",
       "    <tr>\n",
       "      <th>2</th>\n",
       "      <td>12862997</td>\n",
       "      <td>2144063</td>\n",
       "      <td>2019-07-16</td>\n",
       "    </tr>\n",
       "    <tr>\n",
       "      <th>3</th>\n",
       "      <td>12097079</td>\n",
       "      <td>1207738</td>\n",
       "      <td>2019-04-05</td>\n",
       "    </tr>\n",
       "    <tr>\n",
       "      <th>4</th>\n",
       "      <td>3184486</td>\n",
       "      <td>4278839</td>\n",
       "      <td>2019-03-08</td>\n",
       "    </tr>\n",
       "  </tbody>\n",
       "</table>\n",
       "</div>"
      ],
      "text/plain": [
       "    user_id  product_id  created_at\n",
       "0    647746     2011564  2019-02-09\n",
       "1    906136     4105782  2019-11-23\n",
       "2  12862997     2144063  2019-07-16\n",
       "3  12097079     1207738  2019-04-05\n",
       "4   3184486     4278839  2019-03-08"
      ]
     },
     "execution_count": 3,
     "metadata": {},
     "output_type": "execute_result"
    }
   ],
   "source": [
    "prHdf.head()"
   ]
  },
  {
   "cell_type": "code",
   "execution_count": 4,
   "id": "c2d1edc0",
   "metadata": {
    "execution": {
     "iopub.execute_input": "2022-07-17T09:37:17.741389Z",
     "iopub.status.busy": "2022-07-17T09:37:17.740126Z",
     "iopub.status.idle": "2022-07-17T09:37:18.234830Z",
     "shell.execute_reply": "2022-07-17T09:37:18.233505Z"
    },
    "papermill": {
     "duration": 0.514633,
     "end_time": "2022-07-17T09:37:18.238042",
     "exception": false,
     "start_time": "2022-07-17T09:37:17.723409",
     "status": "completed"
    },
    "tags": []
   },
   "outputs": [],
   "source": [
    "prHdf[\"created_at\"] = pd.to_datetime(prHdf[\"created_at\"])"
   ]
  },
  {
   "cell_type": "code",
   "execution_count": 5,
   "id": "65519f2d",
   "metadata": {
    "execution": {
     "iopub.execute_input": "2022-07-17T09:37:18.272368Z",
     "iopub.status.busy": "2022-07-17T09:37:18.271104Z",
     "iopub.status.idle": "2022-07-17T09:37:18.289621Z",
     "shell.execute_reply": "2022-07-17T09:37:18.288412Z"
    },
    "papermill": {
     "duration": 0.039202,
     "end_time": "2022-07-17T09:37:18.293252",
     "exception": false,
     "start_time": "2022-07-17T09:37:18.254050",
     "status": "completed"
    },
    "tags": []
   },
   "outputs": [
    {
     "name": "stdout",
     "output_type": "stream",
     "text": [
      "<class 'pandas.core.frame.DataFrame'>\n",
      "RangeIndex: 2174447 entries, 0 to 2174446\n",
      "Data columns (total 3 columns):\n",
      " #   Column      Dtype         \n",
      "---  ------      -----         \n",
      " 0   user_id     int64         \n",
      " 1   product_id  int64         \n",
      " 2   created_at  datetime64[ns]\n",
      "dtypes: datetime64[ns](1), int64(2)\n",
      "memory usage: 49.8 MB\n"
     ]
    }
   ],
   "source": [
    "prHdf.info()"
   ]
  },
  {
   "cell_type": "code",
   "execution_count": 6,
   "id": "37f6e71b",
   "metadata": {
    "execution": {
     "iopub.execute_input": "2022-07-17T09:37:18.328048Z",
     "iopub.status.busy": "2022-07-17T09:37:18.327350Z",
     "iopub.status.idle": "2022-07-17T09:37:18.338334Z",
     "shell.execute_reply": "2022-07-17T09:37:18.337330Z"
    },
    "papermill": {
     "duration": 0.030624,
     "end_time": "2022-07-17T09:37:18.340714",
     "exception": false,
     "start_time": "2022-07-17T09:37:18.310090",
     "status": "completed"
    },
    "tags": []
   },
   "outputs": [
    {
     "data": {
      "text/html": [
       "<div>\n",
       "<style scoped>\n",
       "    .dataframe tbody tr th:only-of-type {\n",
       "        vertical-align: middle;\n",
       "    }\n",
       "\n",
       "    .dataframe tbody tr th {\n",
       "        vertical-align: top;\n",
       "    }\n",
       "\n",
       "    .dataframe thead th {\n",
       "        text-align: right;\n",
       "    }\n",
       "</style>\n",
       "<table border=\"1\" class=\"dataframe\">\n",
       "  <thead>\n",
       "    <tr style=\"text-align: right;\">\n",
       "      <th></th>\n",
       "      <th>user_id</th>\n",
       "      <th>product_id</th>\n",
       "      <th>created_at</th>\n",
       "    </tr>\n",
       "  </thead>\n",
       "  <tbody>\n",
       "    <tr>\n",
       "      <th>0</th>\n",
       "      <td>647746</td>\n",
       "      <td>2011564</td>\n",
       "      <td>2019-02-09</td>\n",
       "    </tr>\n",
       "    <tr>\n",
       "      <th>1</th>\n",
       "      <td>906136</td>\n",
       "      <td>4105782</td>\n",
       "      <td>2019-11-23</td>\n",
       "    </tr>\n",
       "    <tr>\n",
       "      <th>2</th>\n",
       "      <td>12862997</td>\n",
       "      <td>2144063</td>\n",
       "      <td>2019-07-16</td>\n",
       "    </tr>\n",
       "    <tr>\n",
       "      <th>3</th>\n",
       "      <td>12097079</td>\n",
       "      <td>1207738</td>\n",
       "      <td>2019-04-05</td>\n",
       "    </tr>\n",
       "    <tr>\n",
       "      <th>4</th>\n",
       "      <td>3184486</td>\n",
       "      <td>4278839</td>\n",
       "      <td>2019-03-08</td>\n",
       "    </tr>\n",
       "  </tbody>\n",
       "</table>\n",
       "</div>"
      ],
      "text/plain": [
       "    user_id  product_id created_at\n",
       "0    647746     2011564 2019-02-09\n",
       "1    906136     4105782 2019-11-23\n",
       "2  12862997     2144063 2019-07-16\n",
       "3  12097079     1207738 2019-04-05\n",
       "4   3184486     4278839 2019-03-08"
      ]
     },
     "execution_count": 6,
     "metadata": {},
     "output_type": "execute_result"
    }
   ],
   "source": [
    "prHdf.head()"
   ]
  },
  {
   "cell_type": "markdown",
   "id": "0a48c338",
   "metadata": {
    "papermill": {
     "duration": 0.015785,
     "end_time": "2022-07-17T09:37:18.372991",
     "exception": false,
     "start_time": "2022-07-17T09:37:18.357206",
     "status": "completed"
    },
    "tags": []
   },
   "source": [
    "### How many user?"
   ]
  },
  {
   "cell_type": "code",
   "execution_count": 7,
   "id": "accffc42",
   "metadata": {
    "execution": {
     "iopub.execute_input": "2022-07-17T09:37:18.406841Z",
     "iopub.status.busy": "2022-07-17T09:37:18.406251Z",
     "iopub.status.idle": "2022-07-17T09:37:18.501531Z",
     "shell.execute_reply": "2022-07-17T09:37:18.500604Z"
    },
    "papermill": {
     "duration": 0.115141,
     "end_time": "2022-07-17T09:37:18.504093",
     "exception": false,
     "start_time": "2022-07-17T09:37:18.388952",
     "status": "completed"
    },
    "tags": []
   },
   "outputs": [
    {
     "data": {
      "text/plain": [
       "user_id       96688\n",
       "product_id    41127\n",
       "dtype: int64"
      ]
     },
     "execution_count": 7,
     "metadata": {},
     "output_type": "execute_result"
    }
   ],
   "source": [
    "prHdf[['user_id','product_id']].nunique()"
   ]
  },
  {
   "cell_type": "code",
   "execution_count": 8,
   "id": "6c9ed8e7",
   "metadata": {
    "execution": {
     "iopub.execute_input": "2022-07-17T09:37:18.539872Z",
     "iopub.status.busy": "2022-07-17T09:37:18.539182Z",
     "iopub.status.idle": "2022-07-17T09:37:18.558850Z",
     "shell.execute_reply": "2022-07-17T09:37:18.557809Z"
    },
    "papermill": {
     "duration": 0.040873,
     "end_time": "2022-07-17T09:37:18.561409",
     "exception": false,
     "start_time": "2022-07-17T09:37:18.520536",
     "status": "completed"
    },
    "tags": []
   },
   "outputs": [
    {
     "data": {
      "text/plain": [
       "user_id       0\n",
       "product_id    0\n",
       "created_at    0\n",
       "dtype: int64"
      ]
     },
     "execution_count": 8,
     "metadata": {},
     "output_type": "execute_result"
    }
   ],
   "source": [
    "prHdf.isna().sum()"
   ]
  },
  {
   "cell_type": "code",
   "execution_count": 9,
   "id": "797841fc",
   "metadata": {
    "execution": {
     "iopub.execute_input": "2022-07-17T09:37:18.597562Z",
     "iopub.status.busy": "2022-07-17T09:37:18.596402Z",
     "iopub.status.idle": "2022-07-17T09:37:18.607250Z",
     "shell.execute_reply": "2022-07-17T09:37:18.605987Z"
    },
    "papermill": {
     "duration": 0.031693,
     "end_time": "2022-07-17T09:37:18.609939",
     "exception": false,
     "start_time": "2022-07-17T09:37:18.578246",
     "status": "completed"
    },
    "tags": []
   },
   "outputs": [
    {
     "data": {
      "text/html": [
       "<div>\n",
       "<style scoped>\n",
       "    .dataframe tbody tr th:only-of-type {\n",
       "        vertical-align: middle;\n",
       "    }\n",
       "\n",
       "    .dataframe tbody tr th {\n",
       "        vertical-align: top;\n",
       "    }\n",
       "\n",
       "    .dataframe thead th {\n",
       "        text-align: right;\n",
       "    }\n",
       "</style>\n",
       "<table border=\"1\" class=\"dataframe\">\n",
       "  <thead>\n",
       "    <tr style=\"text-align: right;\">\n",
       "      <th></th>\n",
       "      <th>user_id</th>\n",
       "      <th>product_id</th>\n",
       "    </tr>\n",
       "  </thead>\n",
       "  <tbody>\n",
       "    <tr>\n",
       "      <th>0</th>\n",
       "      <td>577243</td>\n",
       "      <td>724112</td>\n",
       "    </tr>\n",
       "    <tr>\n",
       "      <th>1</th>\n",
       "      <td>577243</td>\n",
       "      <td>875550</td>\n",
       "    </tr>\n",
       "    <tr>\n",
       "      <th>2</th>\n",
       "      <td>577243</td>\n",
       "      <td>895941</td>\n",
       "    </tr>\n",
       "    <tr>\n",
       "      <th>3</th>\n",
       "      <td>577243</td>\n",
       "      <td>895955</td>\n",
       "    </tr>\n",
       "    <tr>\n",
       "      <th>4</th>\n",
       "      <td>577243</td>\n",
       "      <td>896036</td>\n",
       "    </tr>\n",
       "  </tbody>\n",
       "</table>\n",
       "</div>"
      ],
      "text/plain": [
       "   user_id  product_id\n",
       "0   577243      724112\n",
       "1   577243      875550\n",
       "2   577243      895941\n",
       "3   577243      895955\n",
       "4   577243      896036"
      ]
     },
     "execution_count": 9,
     "metadata": {},
     "output_type": "execute_result"
    }
   ],
   "source": [
    "ansdf.head()"
   ]
  },
  {
   "cell_type": "code",
   "execution_count": 10,
   "id": "07099132",
   "metadata": {
    "execution": {
     "iopub.execute_input": "2022-07-17T09:37:18.645278Z",
     "iopub.status.busy": "2022-07-17T09:37:18.644513Z",
     "iopub.status.idle": "2022-07-17T09:37:18.665437Z",
     "shell.execute_reply": "2022-07-17T09:37:18.664429Z"
    },
    "papermill": {
     "duration": 0.041447,
     "end_time": "2022-07-17T09:37:18.667891",
     "exception": false,
     "start_time": "2022-07-17T09:37:18.626444",
     "status": "completed"
    },
    "tags": []
   },
   "outputs": [
    {
     "data": {
      "text/plain": [
       "user_id       96688\n",
       "product_id    41127\n",
       "dtype: int64"
      ]
     },
     "execution_count": 10,
     "metadata": {},
     "output_type": "execute_result"
    }
   ],
   "source": [
    "ansdf.nunique()"
   ]
  },
  {
   "cell_type": "code",
   "execution_count": 11,
   "id": "fad5f906",
   "metadata": {
    "execution": {
     "iopub.execute_input": "2022-07-17T09:37:18.704691Z",
     "iopub.status.busy": "2022-07-17T09:37:18.703939Z",
     "iopub.status.idle": "2022-07-17T09:37:18.715458Z",
     "shell.execute_reply": "2022-07-17T09:37:18.714355Z"
    },
    "papermill": {
     "duration": 0.032742,
     "end_time": "2022-07-17T09:37:18.718239",
     "exception": false,
     "start_time": "2022-07-17T09:37:18.685497",
     "status": "completed"
    },
    "tags": []
   },
   "outputs": [
    {
     "data": {
      "text/plain": [
       "user_id       0\n",
       "product_id    0\n",
       "dtype: int64"
      ]
     },
     "execution_count": 11,
     "metadata": {},
     "output_type": "execute_result"
    }
   ],
   "source": [
    "ansdf.isna().sum()"
   ]
  },
  {
   "cell_type": "code",
   "execution_count": 12,
   "id": "8844d0b7",
   "metadata": {
    "execution": {
     "iopub.execute_input": "2022-07-17T09:37:18.753800Z",
     "iopub.status.busy": "2022-07-17T09:37:18.753202Z",
     "iopub.status.idle": "2022-07-17T09:37:18.767325Z",
     "shell.execute_reply": "2022-07-17T09:37:18.765515Z"
    },
    "papermill": {
     "duration": 0.036292,
     "end_time": "2022-07-17T09:37:18.771153",
     "exception": false,
     "start_time": "2022-07-17T09:37:18.734861",
     "status": "completed"
    },
    "tags": []
   },
   "outputs": [
    {
     "name": "stdout",
     "output_type": "stream",
     "text": [
      "<class 'pandas.core.frame.DataFrame'>\n",
      "RangeIndex: 318050 entries, 0 to 318049\n",
      "Data columns (total 2 columns):\n",
      " #   Column      Non-Null Count   Dtype\n",
      "---  ------      --------------   -----\n",
      " 0   user_id     318050 non-null  int64\n",
      " 1   product_id  318050 non-null  int64\n",
      "dtypes: int64(2)\n",
      "memory usage: 4.9 MB\n"
     ]
    }
   ],
   "source": [
    "ansdf.info()"
   ]
  },
  {
   "cell_type": "code",
   "execution_count": 13,
   "id": "dbb3f411",
   "metadata": {
    "execution": {
     "iopub.execute_input": "2022-07-17T09:37:18.807023Z",
     "iopub.status.busy": "2022-07-17T09:37:18.806638Z",
     "iopub.status.idle": "2022-07-17T09:37:18.942641Z",
     "shell.execute_reply": "2022-07-17T09:37:18.940907Z"
    },
    "papermill": {
     "duration": 0.157354,
     "end_time": "2022-07-17T09:37:18.945613",
     "exception": false,
     "start_time": "2022-07-17T09:37:18.788259",
     "status": "completed"
    },
    "tags": []
   },
   "outputs": [
    {
     "name": "stdout",
     "output_type": "stream",
     "text": [
      "29623462    13604\n",
      "38514908     4514\n",
      "7024706      3434\n",
      "3424777      3410\n",
      "7359226      2431\n",
      "            ...  \n",
      "1030577         4\n",
      "1165576         4\n",
      "9539526         4\n",
      "7052017         4\n",
      "3233681         4\n",
      "Name: user_id, Length: 96688, dtype: int64\n"
     ]
    }
   ],
   "source": [
    "with pd.option_context('display.max_rows', 100, 'display.max_columns', 5):\n",
    "    print(prHdf['user_id'].value_counts())"
   ]
  },
  {
   "cell_type": "code",
   "execution_count": 14,
   "id": "0a7abfc8",
   "metadata": {
    "execution": {
     "iopub.execute_input": "2022-07-17T09:37:18.982220Z",
     "iopub.status.busy": "2022-07-17T09:37:18.981013Z",
     "iopub.status.idle": "2022-07-17T09:37:18.991667Z",
     "shell.execute_reply": "2022-07-17T09:37:18.990224Z"
    },
    "papermill": {
     "duration": 0.032004,
     "end_time": "2022-07-17T09:37:18.994328",
     "exception": false,
     "start_time": "2022-07-17T09:37:18.962324",
     "status": "completed"
    },
    "tags": []
   },
   "outputs": [
    {
     "data": {
      "text/html": [
       "<table border=\"1\" class=\"dataframe\">\n",
       "  <thead>\n",
       "    <tr style=\"text-align: right;\">\n",
       "      <th></th>\n",
       "      <th>user_id</th>\n",
       "      <th>product_id</th>\n",
       "      <th>created_at</th>\n",
       "    </tr>\n",
       "  </thead>\n",
       "  <tbody>\n",
       "    <tr>\n",
       "      <th>0</th>\n",
       "      <td>647746</td>\n",
       "      <td>2011564</td>\n",
       "      <td>2019-02-09</td>\n",
       "    </tr>\n",
       "    <tr>\n",
       "      <th>1</th>\n",
       "      <td>906136</td>\n",
       "      <td>4105782</td>\n",
       "      <td>2019-11-23</td>\n",
       "    </tr>\n",
       "    <tr>\n",
       "      <th>2</th>\n",
       "      <td>12862997</td>\n",
       "      <td>2144063</td>\n",
       "      <td>2019-07-16</td>\n",
       "    </tr>\n",
       "    <tr>\n",
       "      <th>3</th>\n",
       "      <td>12097079</td>\n",
       "      <td>1207738</td>\n",
       "      <td>2019-04-05</td>\n",
       "    </tr>\n",
       "    <tr>\n",
       "      <th>4</th>\n",
       "      <td>3184486</td>\n",
       "      <td>4278839</td>\n",
       "      <td>2019-03-08</td>\n",
       "    </tr>\n",
       "    <tr>\n",
       "      <th>5</th>\n",
       "      <td>1377479</td>\n",
       "      <td>2859499</td>\n",
       "      <td>2019-09-08</td>\n",
       "    </tr>\n",
       "    <tr>\n",
       "      <th>6</th>\n",
       "      <td>943754</td>\n",
       "      <td>3804465</td>\n",
       "      <td>2019-06-30</td>\n",
       "    </tr>\n",
       "    <tr>\n",
       "      <th>7</th>\n",
       "      <td>29623462</td>\n",
       "      <td>3900219</td>\n",
       "      <td>2019-02-09</td>\n",
       "    </tr>\n",
       "    <tr>\n",
       "      <th>8</th>\n",
       "      <td>1208975</td>\n",
       "      <td>1122713</td>\n",
       "      <td>2019-07-14</td>\n",
       "    </tr>\n",
       "    <tr>\n",
       "      <th>9</th>\n",
       "      <td>11713107</td>\n",
       "      <td>4356008</td>\n",
       "      <td>2019-09-27</td>\n",
       "    </tr>\n",
       "  </tbody>\n",
       "</table>"
      ],
      "text/plain": [
       "<IPython.core.display.HTML object>"
      ]
     },
     "metadata": {},
     "output_type": "display_data"
    }
   ],
   "source": [
    "with pd.option_context('display.max_rows', 10000, 'display.max_columns', 5):\n",
    "    display(HTML(prHdf.head(10).to_html()))\n"
   ]
  },
  {
   "cell_type": "code",
   "execution_count": null,
   "id": "f028365d",
   "metadata": {
    "papermill": {
     "duration": 0.016859,
     "end_time": "2022-07-17T09:37:19.028363",
     "exception": false,
     "start_time": "2022-07-17T09:37:19.011504",
     "status": "completed"
    },
    "tags": []
   },
   "outputs": [],
   "source": []
  },
  {
   "cell_type": "code",
   "execution_count": 15,
   "id": "8da4215b",
   "metadata": {
    "execution": {
     "iopub.execute_input": "2022-07-17T09:37:19.065368Z",
     "iopub.status.busy": "2022-07-17T09:37:19.064946Z",
     "iopub.status.idle": "2022-07-17T09:37:20.468273Z",
     "shell.execute_reply": "2022-07-17T09:37:20.467107Z"
    },
    "papermill": {
     "duration": 1.425265,
     "end_time": "2022-07-17T09:37:20.470896",
     "exception": false,
     "start_time": "2022-07-17T09:37:19.045631",
     "status": "completed"
    },
    "tags": []
   },
   "outputs": [
    {
     "data": {
      "text/html": [
       "<div>\n",
       "<style scoped>\n",
       "    .dataframe tbody tr th:only-of-type {\n",
       "        vertical-align: middle;\n",
       "    }\n",
       "\n",
       "    .dataframe tbody tr th {\n",
       "        vertical-align: top;\n",
       "    }\n",
       "\n",
       "    .dataframe thead th {\n",
       "        text-align: right;\n",
       "    }\n",
       "</style>\n",
       "<table border=\"1\" class=\"dataframe\">\n",
       "  <thead>\n",
       "    <tr style=\"text-align: right;\">\n",
       "      <th></th>\n",
       "      <th>user_id</th>\n",
       "      <th>product_id</th>\n",
       "      <th>created_at</th>\n",
       "    </tr>\n",
       "  </thead>\n",
       "  <tbody>\n",
       "    <tr>\n",
       "      <th>68489</th>\n",
       "      <td>577243</td>\n",
       "      <td>724112</td>\n",
       "      <td>2019-03-13</td>\n",
       "    </tr>\n",
       "    <tr>\n",
       "      <th>1304270</th>\n",
       "      <td>577243</td>\n",
       "      <td>724112</td>\n",
       "      <td>2019-03-25</td>\n",
       "    </tr>\n",
       "    <tr>\n",
       "      <th>418727</th>\n",
       "      <td>577243</td>\n",
       "      <td>724112</td>\n",
       "      <td>2019-04-22</td>\n",
       "    </tr>\n",
       "    <tr>\n",
       "      <th>1859117</th>\n",
       "      <td>577243</td>\n",
       "      <td>724112</td>\n",
       "      <td>2019-06-16</td>\n",
       "    </tr>\n",
       "    <tr>\n",
       "      <th>988009</th>\n",
       "      <td>577243</td>\n",
       "      <td>724112</td>\n",
       "      <td>2019-06-29</td>\n",
       "    </tr>\n",
       "    <tr>\n",
       "      <th>1277322</th>\n",
       "      <td>577243</td>\n",
       "      <td>875550</td>\n",
       "      <td>2019-01-19</td>\n",
       "    </tr>\n",
       "    <tr>\n",
       "      <th>407470</th>\n",
       "      <td>577243</td>\n",
       "      <td>875550</td>\n",
       "      <td>2019-02-13</td>\n",
       "    </tr>\n",
       "    <tr>\n",
       "      <th>711978</th>\n",
       "      <td>577243</td>\n",
       "      <td>875550</td>\n",
       "      <td>2019-04-13</td>\n",
       "    </tr>\n",
       "    <tr>\n",
       "      <th>1521046</th>\n",
       "      <td>577243</td>\n",
       "      <td>875550</td>\n",
       "      <td>2019-06-16</td>\n",
       "    </tr>\n",
       "    <tr>\n",
       "      <th>1434989</th>\n",
       "      <td>577243</td>\n",
       "      <td>895941</td>\n",
       "      <td>2019-01-19</td>\n",
       "    </tr>\n",
       "  </tbody>\n",
       "</table>\n",
       "</div>"
      ],
      "text/plain": [
       "         user_id  product_id created_at\n",
       "68489     577243      724112 2019-03-13\n",
       "1304270   577243      724112 2019-03-25\n",
       "418727    577243      724112 2019-04-22\n",
       "1859117   577243      724112 2019-06-16\n",
       "988009    577243      724112 2019-06-29\n",
       "1277322   577243      875550 2019-01-19\n",
       "407470    577243      875550 2019-02-13\n",
       "711978    577243      875550 2019-04-13\n",
       "1521046   577243      875550 2019-06-16\n",
       "1434989   577243      895941 2019-01-19"
      ]
     },
     "execution_count": 15,
     "metadata": {},
     "output_type": "execute_result"
    }
   ],
   "source": [
    "sortedPr = prHdf.sort_values(by=['user_id','product_id','created_at'])\n",
    "sortedPr.head(10)"
   ]
  },
  {
   "cell_type": "code",
   "execution_count": 16,
   "id": "06dc34ce",
   "metadata": {
    "execution": {
     "iopub.execute_input": "2022-07-17T09:37:20.508492Z",
     "iopub.status.busy": "2022-07-17T09:37:20.507760Z",
     "iopub.status.idle": "2022-07-17T09:37:21.463486Z",
     "shell.execute_reply": "2022-07-17T09:37:21.462135Z"
    },
    "papermill": {
     "duration": 0.978684,
     "end_time": "2022-07-17T09:37:21.466896",
     "exception": false,
     "start_time": "2022-07-17T09:37:20.488212",
     "status": "completed"
    },
    "tags": []
   },
   "outputs": [
    {
     "data": {
      "image/png": "[encoded data removed]",
      "text/plain": [
       "<Figure size 1080x504 with 1 Axes>"
      ]
     },
     "metadata": {
      "needs_background": "light"
     },
     "output_type": "display_data"
    }
   ],
   "source": [
    "plt.figure(figsize=(15,7))\n",
    "ax=sns.histplot(data=sortedPr,x='created_at',bins=52)\n",
    "ax.set_title('Number of transactions per week for one year.');"
   ]
  },
  {
   "cell_type": "code",
   "execution_count": 17,
   "id": "4430e755",
   "metadata": {
    "execution": {
     "iopub.execute_input": "2022-07-17T09:37:21.505480Z",
     "iopub.status.busy": "2022-07-17T09:37:21.504974Z",
     "iopub.status.idle": "2022-07-17T09:37:21.520209Z",
     "shell.execute_reply": "2022-07-17T09:37:21.518932Z"
    },
    "papermill": {
     "duration": 0.037651,
     "end_time": "2022-07-17T09:37:21.522982",
     "exception": false,
     "start_time": "2022-07-17T09:37:21.485331",
     "status": "completed"
    },
    "tags": []
   },
   "outputs": [],
   "source": [
    "cond = (sortedPr['user_id']==577243 ) & ( sortedPr['product_id']==724112 )\n",
    "exmpUserProd = sortedPr[cond].copy()\n",
    "exmpUserProd['user_id'] = exmpUserProd['user_id'].astype(str)\n",
    "exmpUserProd['product_id'] = exmpUserProd['product_id'].astype(str)"
   ]
  },
  {
   "cell_type": "code",
   "execution_count": null,
   "id": "f4ed7746",
   "metadata": {
    "papermill": {
     "duration": 0.01745,
     "end_time": "2022-07-17T09:37:21.557981",
     "exception": false,
     "start_time": "2022-07-17T09:37:21.540531",
     "status": "completed"
    },
    "tags": []
   },
   "outputs": [],
   "source": []
  },
  {
   "cell_type": "code",
   "execution_count": 18,
   "id": "fac921d4",
   "metadata": {
    "execution": {
     "iopub.execute_input": "2022-07-17T09:37:21.596880Z",
     "iopub.status.busy": "2022-07-17T09:37:21.596472Z",
     "iopub.status.idle": "2022-07-17T09:37:21.613884Z",
     "shell.execute_reply": "2022-07-17T09:37:21.612453Z"
    },
    "papermill": {
     "duration": 0.04061,
     "end_time": "2022-07-17T09:37:21.616737",
     "exception": false,
     "start_time": "2022-07-17T09:37:21.576127",
     "status": "completed"
    },
    "tags": []
   },
   "outputs": [
    {
     "data": {
      "text/html": [
       "<div>\n",
       "<style scoped>\n",
       "    .dataframe tbody tr th:only-of-type {\n",
       "        vertical-align: middle;\n",
       "    }\n",
       "\n",
       "    .dataframe tbody tr th {\n",
       "        vertical-align: top;\n",
       "    }\n",
       "\n",
       "    .dataframe thead th {\n",
       "        text-align: right;\n",
       "    }\n",
       "</style>\n",
       "<table border=\"1\" class=\"dataframe\">\n",
       "  <thead>\n",
       "    <tr style=\"text-align: right;\">\n",
       "      <th></th>\n",
       "      <th>user_id</th>\n",
       "      <th>product_id</th>\n",
       "      <th>created_at</th>\n",
       "      <th>diff</th>\n",
       "    </tr>\n",
       "  </thead>\n",
       "  <tbody>\n",
       "    <tr>\n",
       "      <th>68489</th>\n",
       "      <td>577243</td>\n",
       "      <td>724112</td>\n",
       "      <td>2019-03-13</td>\n",
       "      <td>NaT</td>\n",
       "    </tr>\n",
       "    <tr>\n",
       "      <th>1304270</th>\n",
       "      <td>577243</td>\n",
       "      <td>724112</td>\n",
       "      <td>2019-03-25</td>\n",
       "      <td>12 days</td>\n",
       "    </tr>\n",
       "    <tr>\n",
       "      <th>418727</th>\n",
       "      <td>577243</td>\n",
       "      <td>724112</td>\n",
       "      <td>2019-04-22</td>\n",
       "      <td>28 days</td>\n",
       "    </tr>\n",
       "    <tr>\n",
       "      <th>1859117</th>\n",
       "      <td>577243</td>\n",
       "      <td>724112</td>\n",
       "      <td>2019-06-16</td>\n",
       "      <td>55 days</td>\n",
       "    </tr>\n",
       "    <tr>\n",
       "      <th>988009</th>\n",
       "      <td>577243</td>\n",
       "      <td>724112</td>\n",
       "      <td>2019-06-29</td>\n",
       "      <td>13 days</td>\n",
       "    </tr>\n",
       "  </tbody>\n",
       "</table>\n",
       "</div>"
      ],
      "text/plain": [
       "        user_id product_id created_at    diff\n",
       "68489    577243     724112 2019-03-13     NaT\n",
       "1304270  577243     724112 2019-03-25 12 days\n",
       "418727   577243     724112 2019-04-22 28 days\n",
       "1859117  577243     724112 2019-06-16 55 days\n",
       "988009   577243     724112 2019-06-29 13 days"
      ]
     },
     "execution_count": 18,
     "metadata": {},
     "output_type": "execute_result"
    }
   ],
   "source": [
    "exmpUserProd['diff'] = exmpUserProd['created_at'] - exmpUserProd['created_at'].shift(1)\n",
    "exmpUserProd"
   ]
  },
  {
   "cell_type": "code",
   "execution_count": 19,
   "id": "b9dc2996",
   "metadata": {
    "execution": {
     "iopub.execute_input": "2022-07-17T09:37:21.655156Z",
     "iopub.status.busy": "2022-07-17T09:37:21.654724Z",
     "iopub.status.idle": "2022-07-17T09:37:21.768768Z",
     "shell.execute_reply": "2022-07-17T09:37:21.767475Z"
    },
    "papermill": {
     "duration": 0.138133,
     "end_time": "2022-07-17T09:37:21.772773",
     "exception": false,
     "start_time": "2022-07-17T09:37:21.634640",
     "status": "completed"
    },
    "tags": []
   },
   "outputs": [
    {
     "data": {
      "image/png": "[encoded data removed]",
      "text/plain": [
       "<Figure size 720x360 with 1 Axes>"
      ]
     },
     "metadata": {
      "needs_background": "light"
     },
     "output_type": "display_data"
    }
   ],
   "source": [
    "plt.figure(figsize=(10,5))\n",
    "ax=sns.barplot(data= exmpUserProd, x=exmpUserProd['created_at'], y =[1 for i in range(len(exmpUserProd))]  )\n",
    "for i,patch in enumerate(ax.patches):\n",
    "    current_width = patch.get_width()\n",
    "    # we change the bar width\n",
    "    patch.set_width(0.05)\n",
    "ax.set_yticks([])\n",
    "sns.despine(left=True)\n",
    "plt.xticks(np.arange(len(exmpUserProd['created_at']))-0.4,exmpUserProd['created_at'].dt.strftime('%y/%m/%d'));"
   ]
  },
  {
   "cell_type": "code",
   "execution_count": 20,
   "id": "5c0a283a",
   "metadata": {
    "execution": {
     "iopub.execute_input": "2022-07-17T09:37:21.842719Z",
     "iopub.status.busy": "2022-07-17T09:37:21.841083Z",
     "iopub.status.idle": "2022-07-17T09:37:21.915341Z",
     "shell.execute_reply": "2022-07-17T09:37:21.914255Z"
    },
    "papermill": {
     "duration": 0.112221,
     "end_time": "2022-07-17T09:37:21.918149",
     "exception": false,
     "start_time": "2022-07-17T09:37:21.805928",
     "status": "completed"
    },
    "tags": []
   },
   "outputs": [
    {
     "data": {
      "text/html": [
       "<div>\n",
       "<style scoped>\n",
       "    .dataframe tbody tr th:only-of-type {\n",
       "        vertical-align: middle;\n",
       "    }\n",
       "\n",
       "    .dataframe tbody tr th {\n",
       "        vertical-align: top;\n",
       "    }\n",
       "\n",
       "    .dataframe thead th {\n",
       "        text-align: right;\n",
       "    }\n",
       "</style>\n",
       "<table border=\"1\" class=\"dataframe\">\n",
       "  <thead>\n",
       "    <tr style=\"text-align: right;\">\n",
       "      <th></th>\n",
       "      <th>user_id</th>\n",
       "      <th>product_id</th>\n",
       "      <th>created_at</th>\n",
       "      <th>diffDay</th>\n",
       "    </tr>\n",
       "  </thead>\n",
       "  <tbody>\n",
       "    <tr>\n",
       "      <th>68489</th>\n",
       "      <td>577243</td>\n",
       "      <td>724112</td>\n",
       "      <td>2019-03-13</td>\n",
       "      <td>NaT</td>\n",
       "    </tr>\n",
       "    <tr>\n",
       "      <th>1304270</th>\n",
       "      <td>577243</td>\n",
       "      <td>724112</td>\n",
       "      <td>2019-03-25</td>\n",
       "      <td>12 days</td>\n",
       "    </tr>\n",
       "    <tr>\n",
       "      <th>418727</th>\n",
       "      <td>577243</td>\n",
       "      <td>724112</td>\n",
       "      <td>2019-04-22</td>\n",
       "      <td>28 days</td>\n",
       "    </tr>\n",
       "    <tr>\n",
       "      <th>1859117</th>\n",
       "      <td>577243</td>\n",
       "      <td>724112</td>\n",
       "      <td>2019-06-16</td>\n",
       "      <td>55 days</td>\n",
       "    </tr>\n",
       "    <tr>\n",
       "      <th>988009</th>\n",
       "      <td>577243</td>\n",
       "      <td>724112</td>\n",
       "      <td>2019-06-29</td>\n",
       "      <td>13 days</td>\n",
       "    </tr>\n",
       "    <tr>\n",
       "      <th>1277322</th>\n",
       "      <td>577243</td>\n",
       "      <td>875550</td>\n",
       "      <td>2019-01-19</td>\n",
       "      <td>NaT</td>\n",
       "    </tr>\n",
       "    <tr>\n",
       "      <th>407470</th>\n",
       "      <td>577243</td>\n",
       "      <td>875550</td>\n",
       "      <td>2019-02-13</td>\n",
       "      <td>25 days</td>\n",
       "    </tr>\n",
       "    <tr>\n",
       "      <th>711978</th>\n",
       "      <td>577243</td>\n",
       "      <td>875550</td>\n",
       "      <td>2019-04-13</td>\n",
       "      <td>59 days</td>\n",
       "    </tr>\n",
       "    <tr>\n",
       "      <th>1521046</th>\n",
       "      <td>577243</td>\n",
       "      <td>875550</td>\n",
       "      <td>2019-06-16</td>\n",
       "      <td>64 days</td>\n",
       "    </tr>\n",
       "    <tr>\n",
       "      <th>1434989</th>\n",
       "      <td>577243</td>\n",
       "      <td>895941</td>\n",
       "      <td>2019-01-19</td>\n",
       "      <td>NaT</td>\n",
       "    </tr>\n",
       "    <tr>\n",
       "      <th>731233</th>\n",
       "      <td>577243</td>\n",
       "      <td>895941</td>\n",
       "      <td>2019-01-26</td>\n",
       "      <td>7 days</td>\n",
       "    </tr>\n",
       "    <tr>\n",
       "      <th>1836975</th>\n",
       "      <td>577243</td>\n",
       "      <td>895941</td>\n",
       "      <td>2019-01-31</td>\n",
       "      <td>5 days</td>\n",
       "    </tr>\n",
       "    <tr>\n",
       "      <th>968382</th>\n",
       "      <td>577243</td>\n",
       "      <td>895941</td>\n",
       "      <td>2019-02-10</td>\n",
       "      <td>10 days</td>\n",
       "    </tr>\n",
       "    <tr>\n",
       "      <th>797872</th>\n",
       "      <td>577243</td>\n",
       "      <td>895941</td>\n",
       "      <td>2019-02-13</td>\n",
       "      <td>3 days</td>\n",
       "    </tr>\n",
       "    <tr>\n",
       "      <th>992358</th>\n",
       "      <td>577243</td>\n",
       "      <td>895941</td>\n",
       "      <td>2019-04-25</td>\n",
       "      <td>71 days</td>\n",
       "    </tr>\n",
       "  </tbody>\n",
       "</table>\n",
       "</div>"
      ],
      "text/plain": [
       "         user_id  product_id created_at diffDay\n",
       "68489     577243      724112 2019-03-13     NaT\n",
       "1304270   577243      724112 2019-03-25 12 days\n",
       "418727    577243      724112 2019-04-22 28 days\n",
       "1859117   577243      724112 2019-06-16 55 days\n",
       "988009    577243      724112 2019-06-29 13 days\n",
       "1277322   577243      875550 2019-01-19     NaT\n",
       "407470    577243      875550 2019-02-13 25 days\n",
       "711978    577243      875550 2019-04-13 59 days\n",
       "1521046   577243      875550 2019-06-16 64 days\n",
       "1434989   577243      895941 2019-01-19     NaT\n",
       "731233    577243      895941 2019-01-26  7 days\n",
       "1836975   577243      895941 2019-01-31  5 days\n",
       "968382    577243      895941 2019-02-10 10 days\n",
       "797872    577243      895941 2019-02-13  3 days\n",
       "992358    577243      895941 2019-04-25 71 days"
      ]
     },
     "execution_count": 20,
     "metadata": {},
     "output_type": "execute_result"
    }
   ],
   "source": [
    "df = sortedPr[sortedPr['user_id']==577243].copy()\n",
    "df['diffDay'] = df.groupby(['user_id','product_id'],as_index=False)['created_at'].transform(lambda x : x-x.shift(1))\n",
    "df.head(15)"
   ]
  },
  {
   "cell_type": "code",
   "execution_count": 21,
   "id": "69669e70",
   "metadata": {
    "execution": {
     "iopub.execute_input": "2022-07-17T09:37:21.958938Z",
     "iopub.status.busy": "2022-07-17T09:37:21.957365Z",
     "iopub.status.idle": "2022-07-17T09:37:21.968278Z",
     "shell.execute_reply": "2022-07-17T09:37:21.966235Z"
    },
    "papermill": {
     "duration": 0.034334,
     "end_time": "2022-07-17T09:37:21.971355",
     "exception": false,
     "start_time": "2022-07-17T09:37:21.937021",
     "status": "completed"
    },
    "tags": []
   },
   "outputs": [
    {
     "data": {
      "text/plain": [
       "52.186888"
      ]
     },
     "execution_count": 21,
     "metadata": {},
     "output_type": "execute_result"
    }
   ],
   "source": [
    "import sys\n",
    "sys.getsizeof(prHdf)/1e6"
   ]
  },
  {
   "cell_type": "code",
   "execution_count": 22,
   "id": "f791a2bd",
   "metadata": {
    "execution": {
     "iopub.execute_input": "2022-07-17T09:37:22.010270Z",
     "iopub.status.busy": "2022-07-17T09:37:22.009814Z",
     "iopub.status.idle": "2022-07-17T09:37:22.019859Z",
     "shell.execute_reply": "2022-07-17T09:37:22.018360Z"
    },
    "papermill": {
     "duration": 0.032601,
     "end_time": "2022-07-17T09:37:22.022526",
     "exception": false,
     "start_time": "2022-07-17T09:37:21.989925",
     "status": "completed"
    },
    "tags": []
   },
   "outputs": [
    {
     "data": {
      "text/plain": [
       "Index          0.000128\n",
       "user_id       17.395576\n",
       "product_id    17.395576\n",
       "created_at    17.395576\n",
       "dtype: float64"
      ]
     },
     "execution_count": 22,
     "metadata": {},
     "output_type": "execute_result"
    }
   ],
   "source": [
    "prHdf.memory_usage()/1e6"
   ]
  },
  {
   "cell_type": "code",
   "execution_count": 23,
   "id": "47170f3e",
   "metadata": {
    "execution": {
     "iopub.execute_input": "2022-07-17T09:37:22.061799Z",
     "iopub.status.busy": "2022-07-17T09:37:22.061291Z",
     "iopub.status.idle": "2022-07-17T09:37:22.066634Z",
     "shell.execute_reply": "2022-07-17T09:37:22.065776Z"
    },
    "papermill": {
     "duration": 0.028235,
     "end_time": "2022-07-17T09:37:22.069121",
     "exception": false,
     "start_time": "2022-07-17T09:37:22.040886",
     "status": "completed"
    },
    "tags": []
   },
   "outputs": [],
   "source": [
    "#free memory\n",
    "del exmpUserProd,df,prHdf"
   ]
  },
  {
   "cell_type": "code",
   "execution_count": 24,
   "id": "b3c7cbdb",
   "metadata": {
    "execution": {
     "iopub.execute_input": "2022-07-17T09:37:22.109947Z",
     "iopub.status.busy": "2022-07-17T09:37:22.109098Z",
     "iopub.status.idle": "2022-07-17T09:46:05.222995Z",
     "shell.execute_reply": "2022-07-17T09:46:05.221767Z"
    },
    "papermill": {
     "duration": 523.158014,
     "end_time": "2022-07-17T09:46:05.245608",
     "exception": false,
     "start_time": "2022-07-17T09:37:22.087594",
     "status": "completed"
    },
    "tags": []
   },
   "outputs": [
    {
     "data": {
      "text/html": [
       "<div>\n",
       "<style scoped>\n",
       "    .dataframe tbody tr th:only-of-type {\n",
       "        vertical-align: middle;\n",
       "    }\n",
       "\n",
       "    .dataframe tbody tr th {\n",
       "        vertical-align: top;\n",
       "    }\n",
       "\n",
       "    .dataframe thead th {\n",
       "        text-align: right;\n",
       "    }\n",
       "</style>\n",
       "<table border=\"1\" class=\"dataframe\">\n",
       "  <thead>\n",
       "    <tr style=\"text-align: right;\">\n",
       "      <th></th>\n",
       "      <th>index</th>\n",
       "      <th>user_id</th>\n",
       "      <th>product_id</th>\n",
       "      <th>created_at</th>\n",
       "      <th>diffDay</th>\n",
       "      <th>GoneDays</th>\n",
       "    </tr>\n",
       "  </thead>\n",
       "  <tbody>\n",
       "    <tr>\n",
       "      <th>2174432</th>\n",
       "      <td>580497</td>\n",
       "      <td>45471482</td>\n",
       "      <td>1945563</td>\n",
       "      <td>2019-02-17</td>\n",
       "      <td>NaN</td>\n",
       "      <td>47</td>\n",
       "    </tr>\n",
       "    <tr>\n",
       "      <th>2174433</th>\n",
       "      <td>483565</td>\n",
       "      <td>45471482</td>\n",
       "      <td>1945563</td>\n",
       "      <td>2019-02-27</td>\n",
       "      <td>10.0</td>\n",
       "      <td>57</td>\n",
       "    </tr>\n",
       "    <tr>\n",
       "      <th>2174434</th>\n",
       "      <td>1309264</td>\n",
       "      <td>45471482</td>\n",
       "      <td>1945563</td>\n",
       "      <td>2019-03-17</td>\n",
       "      <td>18.0</td>\n",
       "      <td>75</td>\n",
       "    </tr>\n",
       "    <tr>\n",
       "      <th>2174435</th>\n",
       "      <td>964042</td>\n",
       "      <td>45471482</td>\n",
       "      <td>1945563</td>\n",
       "      <td>2019-08-10</td>\n",
       "      <td>146.0</td>\n",
       "      <td>221</td>\n",
       "    </tr>\n",
       "    <tr>\n",
       "      <th>2174436</th>\n",
       "      <td>320355</td>\n",
       "      <td>45471482</td>\n",
       "      <td>3309954</td>\n",
       "      <td>2019-10-31</td>\n",
       "      <td>NaN</td>\n",
       "      <td>303</td>\n",
       "    </tr>\n",
       "    <tr>\n",
       "      <th>2174437</th>\n",
       "      <td>1867727</td>\n",
       "      <td>45471482</td>\n",
       "      <td>3309954</td>\n",
       "      <td>2019-11-08</td>\n",
       "      <td>8.0</td>\n",
       "      <td>311</td>\n",
       "    </tr>\n",
       "    <tr>\n",
       "      <th>2174438</th>\n",
       "      <td>72878</td>\n",
       "      <td>45471482</td>\n",
       "      <td>3309954</td>\n",
       "      <td>2019-11-11</td>\n",
       "      <td>3.0</td>\n",
       "      <td>314</td>\n",
       "    </tr>\n",
       "    <tr>\n",
       "      <th>2174439</th>\n",
       "      <td>1150243</td>\n",
       "      <td>45471482</td>\n",
       "      <td>3309954</td>\n",
       "      <td>2019-11-15</td>\n",
       "      <td>4.0</td>\n",
       "      <td>318</td>\n",
       "    </tr>\n",
       "    <tr>\n",
       "      <th>2174440</th>\n",
       "      <td>2155197</td>\n",
       "      <td>45471482</td>\n",
       "      <td>4563945</td>\n",
       "      <td>2019-10-01</td>\n",
       "      <td>NaN</td>\n",
       "      <td>273</td>\n",
       "    </tr>\n",
       "    <tr>\n",
       "      <th>2174441</th>\n",
       "      <td>1373089</td>\n",
       "      <td>45471482</td>\n",
       "      <td>4563945</td>\n",
       "      <td>2019-10-04</td>\n",
       "      <td>3.0</td>\n",
       "      <td>276</td>\n",
       "    </tr>\n",
       "    <tr>\n",
       "      <th>2174442</th>\n",
       "      <td>1377731</td>\n",
       "      <td>45471482</td>\n",
       "      <td>4563945</td>\n",
       "      <td>2019-10-17</td>\n",
       "      <td>13.0</td>\n",
       "      <td>289</td>\n",
       "    </tr>\n",
       "    <tr>\n",
       "      <th>2174443</th>\n",
       "      <td>1695845</td>\n",
       "      <td>45471482</td>\n",
       "      <td>4563945</td>\n",
       "      <td>2019-10-29</td>\n",
       "      <td>12.0</td>\n",
       "      <td>301</td>\n",
       "    </tr>\n",
       "    <tr>\n",
       "      <th>2174444</th>\n",
       "      <td>1121576</td>\n",
       "      <td>45471482</td>\n",
       "      <td>4563945</td>\n",
       "      <td>2019-11-10</td>\n",
       "      <td>12.0</td>\n",
       "      <td>313</td>\n",
       "    </tr>\n",
       "    <tr>\n",
       "      <th>2174445</th>\n",
       "      <td>1535111</td>\n",
       "      <td>45471482</td>\n",
       "      <td>4563945</td>\n",
       "      <td>2019-11-11</td>\n",
       "      <td>1.0</td>\n",
       "      <td>314</td>\n",
       "    </tr>\n",
       "    <tr>\n",
       "      <th>2174446</th>\n",
       "      <td>759240</td>\n",
       "      <td>45471482</td>\n",
       "      <td>4563945</td>\n",
       "      <td>2019-11-15</td>\n",
       "      <td>4.0</td>\n",
       "      <td>318</td>\n",
       "    </tr>\n",
       "  </tbody>\n",
       "</table>\n",
       "</div>"
      ],
      "text/plain": [
       "           index   user_id  product_id created_at  diffDay  GoneDays\n",
       "2174432   580497  45471482     1945563 2019-02-17      NaN        47\n",
       "2174433   483565  45471482     1945563 2019-02-27     10.0        57\n",
       "2174434  1309264  45471482     1945563 2019-03-17     18.0        75\n",
       "2174435   964042  45471482     1945563 2019-08-10    146.0       221\n",
       "2174436   320355  45471482     3309954 2019-10-31      NaN       303\n",
       "2174437  1867727  45471482     3309954 2019-11-08      8.0       311\n",
       "2174438    72878  45471482     3309954 2019-11-11      3.0       314\n",
       "2174439  1150243  45471482     3309954 2019-11-15      4.0       318\n",
       "2174440  2155197  45471482     4563945 2019-10-01      NaN       273\n",
       "2174441  1373089  45471482     4563945 2019-10-04      3.0       276\n",
       "2174442  1377731  45471482     4563945 2019-10-17     13.0       289\n",
       "2174443  1695845  45471482     4563945 2019-10-29     12.0       301\n",
       "2174444  1121576  45471482     4563945 2019-11-10     12.0       313\n",
       "2174445  1535111  45471482     4563945 2019-11-11      1.0       314\n",
       "2174446   759240  45471482     4563945 2019-11-15      4.0       318"
      ]
     },
     "execution_count": 24,
     "metadata": {},
     "output_type": "execute_result"
    }
   ],
   "source": [
    "df = sortedPr.copy()\n",
    "df['diffDay'] = df.groupby(['user_id','product_id'],as_index=False)['created_at'].transform(lambda x : x-x.shift(1))\n",
    "df['diffDay'] = df['diffDay'].dt.days\n",
    "firstRecord = pd.Timestamp('2019-01-01')\n",
    "df['GoneDays'] = (df['created_at'] - firstRecord).dt.days\n",
    "df.reset_index(inplace=True)\n",
    "df.tail(15)"
   ]
  },
  {
   "cell_type": "code",
   "execution_count": 25,
   "id": "f04cf21f",
   "metadata": {
    "execution": {
     "iopub.execute_input": "2022-07-17T09:46:05.286035Z",
     "iopub.status.busy": "2022-07-17T09:46:05.284835Z",
     "iopub.status.idle": "2022-07-17T09:46:31.329415Z",
     "shell.execute_reply": "2022-07-17T09:46:31.328345Z"
    },
    "papermill": {
     "duration": 26.067838,
     "end_time": "2022-07-17T09:46:31.332302",
     "exception": false,
     "start_time": "2022-07-17T09:46:05.264464",
     "status": "completed"
    },
    "tags": []
   },
   "outputs": [],
   "source": [
    "df.to_csv('added_diffDay_GoneDay_beforeSeperating.csv')"
   ]
  },
  {
   "cell_type": "code",
   "execution_count": null,
   "id": "48f6d03d",
   "metadata": {
    "papermill": {
     "duration": 0.019019,
     "end_time": "2022-07-17T09:46:31.370573",
     "exception": false,
     "start_time": "2022-07-17T09:46:31.351554",
     "status": "completed"
    },
    "tags": []
   },
   "outputs": [],
   "source": []
  },
  {
   "cell_type": "markdown",
   "id": "4775ac99",
   "metadata": {
    "papermill": {
     "duration": 0.018932,
     "end_time": "2022-07-17T09:46:31.408860",
     "exception": false,
     "start_time": "2022-07-17T09:46:31.389928",
     "status": "completed"
    },
    "tags": []
   },
   "source": [
    "#### Seperating last date of purchases for every user-product as a target date."
   ]
  },
  {
   "cell_type": "code",
   "execution_count": 26,
   "id": "b95d8517",
   "metadata": {
    "execution": {
     "iopub.execute_input": "2022-07-17T09:46:31.449990Z",
     "iopub.status.busy": "2022-07-17T09:46:31.449280Z",
     "iopub.status.idle": "2022-07-17T09:46:45.373030Z",
     "shell.execute_reply": "2022-07-17T09:46:45.371892Z"
    },
    "papermill": {
     "duration": 13.947377,
     "end_time": "2022-07-17T09:46:45.375915",
     "exception": false,
     "start_time": "2022-07-17T09:46:31.428538",
     "status": "completed"
    },
    "tags": []
   },
   "outputs": [],
   "source": [
    "target = df.reset_index().groupby(['user_id','product_id'],as_index=False).agg(created_at=('created_at','max'),\n",
    "                                                                 diffDay=('diffDay',lambda x:x.iloc[-1]),\n",
    "                                                                 GoneDays=('GoneDays',lambda x:x.iloc[-1]),\n",
    "                                                                  index = ('index',lambda x:x.iloc[-1]) )"
   ]
  },
  {
   "cell_type": "code",
   "execution_count": 27,
   "id": "f722c851",
   "metadata": {
    "execution": {
     "iopub.execute_input": "2022-07-17T09:46:45.419230Z",
     "iopub.status.busy": "2022-07-17T09:46:45.418812Z",
     "iopub.status.idle": "2022-07-17T09:46:45.426695Z",
     "shell.execute_reply": "2022-07-17T09:46:45.425933Z"
    },
    "papermill": {
     "duration": 0.032177,
     "end_time": "2022-07-17T09:46:45.428931",
     "exception": false,
     "start_time": "2022-07-17T09:46:45.396754",
     "status": "completed"
    },
    "tags": []
   },
   "outputs": [],
   "source": [
    "#changing position of index column.\n",
    "target.insert(0, 'index', target.pop('index'))"
   ]
  },
  {
   "cell_type": "code",
   "execution_count": 28,
   "id": "1fa914c6",
   "metadata": {
    "execution": {
     "iopub.execute_input": "2022-07-17T09:46:45.472299Z",
     "iopub.status.busy": "2022-07-17T09:46:45.471556Z",
     "iopub.status.idle": "2022-07-17T09:46:45.484947Z",
     "shell.execute_reply": "2022-07-17T09:46:45.483750Z"
    },
    "papermill": {
     "duration": 0.038174,
     "end_time": "2022-07-17T09:46:45.487917",
     "exception": false,
     "start_time": "2022-07-17T09:46:45.449743",
     "status": "completed"
    },
    "tags": []
   },
   "outputs": [
    {
     "data": {
      "text/html": [
       "<div>\n",
       "<style scoped>\n",
       "    .dataframe tbody tr th:only-of-type {\n",
       "        vertical-align: middle;\n",
       "    }\n",
       "\n",
       "    .dataframe tbody tr th {\n",
       "        vertical-align: top;\n",
       "    }\n",
       "\n",
       "    .dataframe thead th {\n",
       "        text-align: right;\n",
       "    }\n",
       "</style>\n",
       "<table border=\"1\" class=\"dataframe\">\n",
       "  <thead>\n",
       "    <tr style=\"text-align: right;\">\n",
       "      <th></th>\n",
       "      <th>index</th>\n",
       "      <th>user_id</th>\n",
       "      <th>product_id</th>\n",
       "      <th>created_at</th>\n",
       "      <th>diffDay</th>\n",
       "      <th>GoneDays</th>\n",
       "    </tr>\n",
       "  </thead>\n",
       "  <tbody>\n",
       "    <tr>\n",
       "      <th>318044</th>\n",
       "      <td>687066</td>\n",
       "      <td>45339741</td>\n",
       "      <td>975982</td>\n",
       "      <td>2019-11-08</td>\n",
       "      <td>70.0</td>\n",
       "      <td>311</td>\n",
       "    </tr>\n",
       "    <tr>\n",
       "      <th>318045</th>\n",
       "      <td>806653</td>\n",
       "      <td>45431507</td>\n",
       "      <td>4375282</td>\n",
       "      <td>2019-08-27</td>\n",
       "      <td>47.0</td>\n",
       "      <td>238</td>\n",
       "    </tr>\n",
       "    <tr>\n",
       "      <th>318046</th>\n",
       "      <td>1352989</td>\n",
       "      <td>45443053</td>\n",
       "      <td>1660612</td>\n",
       "      <td>2019-12-24</td>\n",
       "      <td>0.0</td>\n",
       "      <td>357</td>\n",
       "    </tr>\n",
       "    <tr>\n",
       "      <th>318047</th>\n",
       "      <td>964042</td>\n",
       "      <td>45471482</td>\n",
       "      <td>1945563</td>\n",
       "      <td>2019-08-10</td>\n",
       "      <td>146.0</td>\n",
       "      <td>221</td>\n",
       "    </tr>\n",
       "    <tr>\n",
       "      <th>318048</th>\n",
       "      <td>1150243</td>\n",
       "      <td>45471482</td>\n",
       "      <td>3309954</td>\n",
       "      <td>2019-11-15</td>\n",
       "      <td>4.0</td>\n",
       "      <td>318</td>\n",
       "    </tr>\n",
       "    <tr>\n",
       "      <th>318049</th>\n",
       "      <td>759240</td>\n",
       "      <td>45471482</td>\n",
       "      <td>4563945</td>\n",
       "      <td>2019-11-15</td>\n",
       "      <td>4.0</td>\n",
       "      <td>318</td>\n",
       "    </tr>\n",
       "  </tbody>\n",
       "</table>\n",
       "</div>"
      ],
      "text/plain": [
       "          index   user_id  product_id created_at  diffDay  GoneDays\n",
       "318044   687066  45339741      975982 2019-11-08     70.0       311\n",
       "318045   806653  45431507     4375282 2019-08-27     47.0       238\n",
       "318046  1352989  45443053     1660612 2019-12-24      0.0       357\n",
       "318047   964042  45471482     1945563 2019-08-10    146.0       221\n",
       "318048  1150243  45471482     3309954 2019-11-15      4.0       318\n",
       "318049   759240  45471482     4563945 2019-11-15      4.0       318"
      ]
     },
     "execution_count": 28,
     "metadata": {},
     "output_type": "execute_result"
    }
   ],
   "source": [
    "target.tail(6)"
   ]
  },
  {
   "cell_type": "code",
   "execution_count": 29,
   "id": "6d2d80f5",
   "metadata": {
    "execution": {
     "iopub.execute_input": "2022-07-17T09:46:45.533010Z",
     "iopub.status.busy": "2022-07-17T09:46:45.532411Z",
     "iopub.status.idle": "2022-07-17T09:46:49.523815Z",
     "shell.execute_reply": "2022-07-17T09:46:49.522655Z"
    },
    "papermill": {
     "duration": 4.017124,
     "end_time": "2022-07-17T09:46:49.527398",
     "exception": false,
     "start_time": "2022-07-17T09:46:45.510274",
     "status": "completed"
    },
    "tags": []
   },
   "outputs": [],
   "source": [
    "target.to_csv('targetLastDatePurchase_user-product.csv')"
   ]
  },
  {
   "cell_type": "code",
   "execution_count": null,
   "id": "cf4da35a",
   "metadata": {
    "papermill": {
     "duration": 0.020774,
     "end_time": "2022-07-17T09:46:49.569751",
     "exception": false,
     "start_time": "2022-07-17T09:46:49.548977",
     "status": "completed"
    },
    "tags": []
   },
   "outputs": [],
   "source": []
  },
  {
   "cell_type": "code",
   "execution_count": 30,
   "id": "465e76a8",
   "metadata": {
    "execution": {
     "iopub.execute_input": "2022-07-17T09:46:49.614332Z",
     "iopub.status.busy": "2022-07-17T09:46:49.613638Z",
     "iopub.status.idle": "2022-07-17T09:46:49.823235Z",
     "shell.execute_reply": "2022-07-17T09:46:49.822272Z"
    },
    "papermill": {
     "duration": 0.235139,
     "end_time": "2022-07-17T09:46:49.826141",
     "exception": false,
     "start_time": "2022-07-17T09:46:49.591002",
     "status": "completed"
    },
    "tags": []
   },
   "outputs": [],
   "source": [
    "trainData = df[~df['index'].isin(target['index'])]"
   ]
  },
  {
   "cell_type": "code",
   "execution_count": 31,
   "id": "86e2ad6b",
   "metadata": {
    "execution": {
     "iopub.execute_input": "2022-07-17T09:46:49.870860Z",
     "iopub.status.busy": "2022-07-17T09:46:49.870426Z",
     "iopub.status.idle": "2022-07-17T09:46:49.884364Z",
     "shell.execute_reply": "2022-07-17T09:46:49.882812Z"
    },
    "papermill": {
     "duration": 0.039365,
     "end_time": "2022-07-17T09:46:49.887112",
     "exception": false,
     "start_time": "2022-07-17T09:46:49.847747",
     "status": "completed"
    },
    "tags": []
   },
   "outputs": [
    {
     "data": {
      "text/html": [
       "<div>\n",
       "<style scoped>\n",
       "    .dataframe tbody tr th:only-of-type {\n",
       "        vertical-align: middle;\n",
       "    }\n",
       "\n",
       "    .dataframe tbody tr th {\n",
       "        vertical-align: top;\n",
       "    }\n",
       "\n",
       "    .dataframe thead th {\n",
       "        text-align: right;\n",
       "    }\n",
       "</style>\n",
       "<table border=\"1\" class=\"dataframe\">\n",
       "  <thead>\n",
       "    <tr style=\"text-align: right;\">\n",
       "      <th></th>\n",
       "      <th>index</th>\n",
       "      <th>user_id</th>\n",
       "      <th>product_id</th>\n",
       "      <th>created_at</th>\n",
       "      <th>diffDay</th>\n",
       "      <th>GoneDays</th>\n",
       "    </tr>\n",
       "  </thead>\n",
       "  <tbody>\n",
       "    <tr>\n",
       "      <th>2174444</th>\n",
       "      <td>1121576</td>\n",
       "      <td>45471482</td>\n",
       "      <td>4563945</td>\n",
       "      <td>2019-11-10</td>\n",
       "      <td>12.0</td>\n",
       "      <td>313</td>\n",
       "    </tr>\n",
       "    <tr>\n",
       "      <th>2174445</th>\n",
       "      <td>1535111</td>\n",
       "      <td>45471482</td>\n",
       "      <td>4563945</td>\n",
       "      <td>2019-11-11</td>\n",
       "      <td>1.0</td>\n",
       "      <td>314</td>\n",
       "    </tr>\n",
       "  </tbody>\n",
       "</table>\n",
       "</div>"
      ],
      "text/plain": [
       "           index   user_id  product_id created_at  diffDay  GoneDays\n",
       "2174444  1121576  45471482     4563945 2019-11-10     12.0       313\n",
       "2174445  1535111  45471482     4563945 2019-11-11      1.0       314"
      ]
     },
     "execution_count": 31,
     "metadata": {},
     "output_type": "execute_result"
    }
   ],
   "source": [
    "trainData.tail(2)"
   ]
  },
  {
   "cell_type": "markdown",
   "id": "c9ebff39",
   "metadata": {
    "papermill": {
     "duration": 0.019041,
     "end_time": "2022-07-17T09:46:49.925435",
     "exception": false,
     "start_time": "2022-07-17T09:46:49.906394",
     "status": "completed"
    },
    "tags": []
   },
   "source": [
    "#### Checking"
   ]
  },
  {
   "cell_type": "code",
   "execution_count": 32,
   "id": "86618eb3",
   "metadata": {
    "execution": {
     "iopub.execute_input": "2022-07-17T09:46:49.966972Z",
     "iopub.status.busy": "2022-07-17T09:46:49.966164Z",
     "iopub.status.idle": "2022-07-17T09:46:49.994387Z",
     "shell.execute_reply": "2022-07-17T09:46:49.993159Z"
    },
    "papermill": {
     "duration": 0.051891,
     "end_time": "2022-07-17T09:46:49.996867",
     "exception": false,
     "start_time": "2022-07-17T09:46:49.944976",
     "status": "completed"
    },
    "tags": []
   },
   "outputs": [
    {
     "data": {
      "text/html": [
       "<div>\n",
       "<style scoped>\n",
       "    .dataframe tbody tr th:only-of-type {\n",
       "        vertical-align: middle;\n",
       "    }\n",
       "\n",
       "    .dataframe tbody tr th {\n",
       "        vertical-align: top;\n",
       "    }\n",
       "\n",
       "    .dataframe thead th {\n",
       "        text-align: right;\n",
       "    }\n",
       "</style>\n",
       "<table border=\"1\" class=\"dataframe\">\n",
       "  <thead>\n",
       "    <tr style=\"text-align: right;\">\n",
       "      <th></th>\n",
       "      <th>index</th>\n",
       "      <th>user_id</th>\n",
       "      <th>product_id</th>\n",
       "      <th>created_at</th>\n",
       "      <th>diffDay</th>\n",
       "      <th>GoneDays</th>\n",
       "    </tr>\n",
       "  </thead>\n",
       "  <tbody>\n",
       "    <tr>\n",
       "      <th>68010</th>\n",
       "      <td>1799285</td>\n",
       "      <td>3135587</td>\n",
       "      <td>3831420</td>\n",
       "      <td>2019-11-18</td>\n",
       "      <td>88.0</td>\n",
       "      <td>321</td>\n",
       "    </tr>\n",
       "  </tbody>\n",
       "</table>\n",
       "</div>"
      ],
      "text/plain": [
       "         index  user_id  product_id created_at  diffDay  GoneDays\n",
       "68010  1799285  3135587     3831420 2019-11-18     88.0       321"
      ]
     },
     "execution_count": 32,
     "metadata": {},
     "output_type": "execute_result"
    }
   ],
   "source": [
    "smplIDX =target.sample(1)\n",
    "smplIDX"
   ]
  },
  {
   "cell_type": "code",
   "execution_count": 33,
   "id": "4bab4b89",
   "metadata": {
    "execution": {
     "iopub.execute_input": "2022-07-17T09:46:50.037951Z",
     "iopub.status.busy": "2022-07-17T09:46:50.037120Z",
     "iopub.status.idle": "2022-07-17T09:46:50.055009Z",
     "shell.execute_reply": "2022-07-17T09:46:50.053610Z"
    },
    "papermill": {
     "duration": 0.041466,
     "end_time": "2022-07-17T09:46:50.057691",
     "exception": false,
     "start_time": "2022-07-17T09:46:50.016225",
     "status": "completed"
    },
    "tags": []
   },
   "outputs": [
    {
     "data": {
      "text/html": [
       "<div>\n",
       "<style scoped>\n",
       "    .dataframe tbody tr th:only-of-type {\n",
       "        vertical-align: middle;\n",
       "    }\n",
       "\n",
       "    .dataframe tbody tr th {\n",
       "        vertical-align: top;\n",
       "    }\n",
       "\n",
       "    .dataframe thead th {\n",
       "        text-align: right;\n",
       "    }\n",
       "</style>\n",
       "<table border=\"1\" class=\"dataframe\">\n",
       "  <thead>\n",
       "    <tr style=\"text-align: right;\">\n",
       "      <th></th>\n",
       "      <th>index</th>\n",
       "      <th>user_id</th>\n",
       "      <th>product_id</th>\n",
       "      <th>created_at</th>\n",
       "      <th>diffDay</th>\n",
       "      <th>GoneDays</th>\n",
       "    </tr>\n",
       "  </thead>\n",
       "  <tbody>\n",
       "    <tr>\n",
       "      <th>446216</th>\n",
       "      <td>1799285</td>\n",
       "      <td>3135587</td>\n",
       "      <td>3831420</td>\n",
       "      <td>2019-11-18</td>\n",
       "      <td>88.0</td>\n",
       "      <td>321</td>\n",
       "    </tr>\n",
       "  </tbody>\n",
       "</table>\n",
       "</div>"
      ],
      "text/plain": [
       "          index  user_id  product_id created_at  diffDay  GoneDays\n",
       "446216  1799285  3135587     3831420 2019-11-18     88.0       321"
      ]
     },
     "execution_count": 33,
     "metadata": {},
     "output_type": "execute_result"
    }
   ],
   "source": [
    "df[df['index']==smplIDX['index'].iloc[0]]"
   ]
  },
  {
   "cell_type": "code",
   "execution_count": 34,
   "id": "5d048d86",
   "metadata": {
    "execution": {
     "iopub.execute_input": "2022-07-17T09:46:50.098229Z",
     "iopub.status.busy": "2022-07-17T09:46:50.097819Z",
     "iopub.status.idle": "2022-07-17T09:46:50.112780Z",
     "shell.execute_reply": "2022-07-17T09:46:50.111802Z"
    },
    "papermill": {
     "duration": 0.037956,
     "end_time": "2022-07-17T09:46:50.115042",
     "exception": false,
     "start_time": "2022-07-17T09:46:50.077086",
     "status": "completed"
    },
    "tags": []
   },
   "outputs": [
    {
     "data": {
      "text/html": [
       "<div>\n",
       "<style scoped>\n",
       "    .dataframe tbody tr th:only-of-type {\n",
       "        vertical-align: middle;\n",
       "    }\n",
       "\n",
       "    .dataframe tbody tr th {\n",
       "        vertical-align: top;\n",
       "    }\n",
       "\n",
       "    .dataframe thead th {\n",
       "        text-align: right;\n",
       "    }\n",
       "</style>\n",
       "<table border=\"1\" class=\"dataframe\">\n",
       "  <thead>\n",
       "    <tr style=\"text-align: right;\">\n",
       "      <th></th>\n",
       "      <th>index</th>\n",
       "      <th>user_id</th>\n",
       "      <th>product_id</th>\n",
       "      <th>created_at</th>\n",
       "      <th>diffDay</th>\n",
       "      <th>GoneDays</th>\n",
       "    </tr>\n",
       "  </thead>\n",
       "  <tbody>\n",
       "  </tbody>\n",
       "</table>\n",
       "</div>"
      ],
      "text/plain": [
       "Empty DataFrame\n",
       "Columns: [index, user_id, product_id, created_at, diffDay, GoneDays]\n",
       "Index: []"
      ]
     },
     "execution_count": 34,
     "metadata": {},
     "output_type": "execute_result"
    }
   ],
   "source": [
    "trainData[trainData['index']==smplIDX['index'].iloc[0]]"
   ]
  },
  {
   "cell_type": "code",
   "execution_count": 35,
   "id": "63d18b28",
   "metadata": {
    "execution": {
     "iopub.execute_input": "2022-07-17T09:46:50.156475Z",
     "iopub.status.busy": "2022-07-17T09:46:50.155797Z",
     "iopub.status.idle": "2022-07-17T09:46:50.160571Z",
     "shell.execute_reply": "2022-07-17T09:46:50.159718Z"
    },
    "papermill": {
     "duration": 0.028255,
     "end_time": "2022-07-17T09:46:50.162907",
     "exception": false,
     "start_time": "2022-07-17T09:46:50.134652",
     "status": "completed"
    },
    "tags": []
   },
   "outputs": [],
   "source": [
    "#trainData.to_csv('Train_Purchase_user-product_beforeFeatureExtraction.csv')"
   ]
  },
  {
   "cell_type": "code",
   "execution_count": null,
   "id": "aa06b05d",
   "metadata": {
    "papermill": {
     "duration": 0.01976,
     "end_time": "2022-07-17T09:46:50.202275",
     "exception": false,
     "start_time": "2022-07-17T09:46:50.182515",
     "status": "completed"
    },
    "tags": []
   },
   "outputs": [],
   "source": []
  },
  {
   "cell_type": "code",
   "execution_count": 36,
   "id": "d9c0f142",
   "metadata": {
    "execution": {
     "iopub.execute_input": "2022-07-17T09:46:50.243862Z",
     "iopub.status.busy": "2022-07-17T09:46:50.243192Z",
     "iopub.status.idle": "2022-07-17T09:46:55.469551Z",
     "shell.execute_reply": "2022-07-17T09:46:55.468332Z"
    },
    "papermill": {
     "duration": 5.250989,
     "end_time": "2022-07-17T09:46:55.472918",
     "exception": false,
     "start_time": "2022-07-17T09:46:50.221929",
     "status": "completed"
    },
    "tags": []
   },
   "outputs": [
    {
     "name": "stdout",
     "output_type": "stream",
     "text": [
      "(318050, 5)\n"
     ]
    },
    {
     "data": {
      "text/html": [
       "<table border=\"1\" class=\"dataframe\">\n",
       "  <thead>\n",
       "    <tr style=\"text-align: right;\">\n",
       "      <th></th>\n",
       "      <th>user_id</th>\n",
       "      <th>product_id</th>\n",
       "      <th>allDiffDay</th>\n",
       "      <th>LenOfList</th>\n",
       "      <th>allGoneDay</th>\n",
       "    </tr>\n",
       "  </thead>\n",
       "  <tbody>\n",
       "    <tr>\n",
       "      <th>318044</th>\n",
       "      <td>45339741</td>\n",
       "      <td>975982</td>\n",
       "      <td>[nan, 12.0, 19.0, 19.0, 8.0, 44.0, 36.0, 18.0, 27.0]</td>\n",
       "      <td>9</td>\n",
       "      <td>[58, 70, 89, 108, 116, 160, 196, 214, 241]</td>\n",
       "    </tr>\n",
       "    <tr>\n",
       "      <th>318045</th>\n",
       "      <td>45431507</td>\n",
       "      <td>4375282</td>\n",
       "      <td>[nan, 73.0, 21.0]</td>\n",
       "      <td>3</td>\n",
       "      <td>[97, 170, 191]</td>\n",
       "    </tr>\n",
       "    <tr>\n",
       "      <th>318046</th>\n",
       "      <td>45443053</td>\n",
       "      <td>1660612</td>\n",
       "      <td>[nan, 0.0, 1.0, 1.0, 1.0, 0.0, 1.0, 1.0, 0.0, 7.0, 0.0, 0.0, 0.0, 1.0, 12.0, 6.0, 11.0, 1.0, 1.0, 0.0, 13.0, 0.0, 3.0, 0.0, 2.0, 0.0, 1.0, 3.0, 0.0, 3.0, 4.0, 2.0, 1.0, 1.0, 0.0, 0.0, 1.0, 2.0, 4.0, 2.0, 1.0, 17.0, 0.0, 0.0]</td>\n",
       "      <td>44</td>\n",
       "      <td>[253, 253, 254, 255, 256, 256, 257, 258, 258, 265, 265, 265, 265, 266, 278, 284, 295, 296, 297, 297, 310, 310, 313, 313, 315, 315, 316, 319, 319, 322, 326, 328, 329, 330, 330, 330, 331, 333, 337, 339, 340, 357, 357, 357]</td>\n",
       "    </tr>\n",
       "    <tr>\n",
       "      <th>318047</th>\n",
       "      <td>45471482</td>\n",
       "      <td>1945563</td>\n",
       "      <td>[nan, 10.0, 18.0]</td>\n",
       "      <td>3</td>\n",
       "      <td>[47, 57, 75]</td>\n",
       "    </tr>\n",
       "    <tr>\n",
       "      <th>318048</th>\n",
       "      <td>45471482</td>\n",
       "      <td>3309954</td>\n",
       "      <td>[nan, 8.0, 3.0]</td>\n",
       "      <td>3</td>\n",
       "      <td>[303, 311, 314]</td>\n",
       "    </tr>\n",
       "    <tr>\n",
       "      <th>318049</th>\n",
       "      <td>45471482</td>\n",
       "      <td>4563945</td>\n",
       "      <td>[nan, 3.0, 13.0, 12.0, 12.0, 1.0]</td>\n",
       "      <td>6</td>\n",
       "      <td>[273, 276, 289, 301, 313, 314]</td>\n",
       "    </tr>\n",
       "  </tbody>\n",
       "</table>"
      ],
      "text/plain": [
       "<IPython.core.display.HTML object>"
      ]
     },
     "metadata": {},
     "output_type": "display_data"
    }
   ],
   "source": [
    "groupedtrdf = trainData.groupby(['user_id','product_id'],as_index=False).agg(allDiffDay =('diffDay',lambda x: x.tolist()),\n",
    "                                                                     LenOfList =('diffDay','size'),\n",
    "                                                                    allGoneDay=('GoneDays',lambda x: x.tolist()))\n",
    "print(groupedtrdf.shape)\n",
    "with pd.option_context('display.max_rows', 100, 'display.max_columns', 10,'max_colwidth', None):\n",
    "    display(HTML(groupedtrdf.tail(6).to_html()))\n"
   ]
  },
  {
   "cell_type": "markdown",
   "id": "f55153f2",
   "metadata": {
    "papermill": {
     "duration": 0.024947,
     "end_time": "2022-07-17T09:46:55.519739",
     "exception": false,
     "start_time": "2022-07-17T09:46:55.494792",
     "status": "completed"
    },
    "tags": []
   },
   "source": [
    "### Caculate probabilty of a product based on user or user transactions."
   ]
  },
  {
   "cell_type": "code",
   "execution_count": 37,
   "id": "a7294cd6",
   "metadata": {
    "execution": {
     "iopub.execute_input": "2022-07-17T09:46:55.561851Z",
     "iopub.status.busy": "2022-07-17T09:46:55.561435Z",
     "iopub.status.idle": "2022-07-17T09:48:29.990920Z",
     "shell.execute_reply": "2022-07-17T09:48:29.989285Z"
    },
    "papermill": {
     "duration": 94.470623,
     "end_time": "2022-07-17T09:48:30.010442",
     "exception": false,
     "start_time": "2022-07-17T09:46:55.539819",
     "status": "completed"
    },
    "tags": []
   },
   "outputs": [
    {
     "name": "stdout",
     "output_type": "stream",
     "text": [
      "(318050, 6)\n"
     ]
    },
    {
     "data": {
      "text/html": [
       "<table border=\"1\" class=\"dataframe\">\n",
       "  <thead>\n",
       "    <tr style=\"text-align: right;\">\n",
       "      <th></th>\n",
       "      <th>user_id</th>\n",
       "      <th>product_id</th>\n",
       "      <th>allDiffDay</th>\n",
       "      <th>LenOfList</th>\n",
       "      <th>allGoneDay</th>\n",
       "      <th>ProductProbPerUser</th>\n",
       "    </tr>\n",
       "  </thead>\n",
       "  <tbody>\n",
       "    <tr>\n",
       "      <th>318044</th>\n",
       "      <td>45339741</td>\n",
       "      <td>975982</td>\n",
       "      <td>[nan, 12.0, 19.0, 19.0, 8.0, 44.0, 36.0, 18.0, 27.0]</td>\n",
       "      <td>9</td>\n",
       "      <td>[58, 70, 89, 108, 116, 160, 196, 214, 241]</td>\n",
       "      <td>0.692308</td>\n",
       "    </tr>\n",
       "    <tr>\n",
       "      <th>318045</th>\n",
       "      <td>45431507</td>\n",
       "      <td>4375282</td>\n",
       "      <td>[nan, 73.0, 21.0]</td>\n",
       "      <td>3</td>\n",
       "      <td>[97, 170, 191]</td>\n",
       "      <td>1.000000</td>\n",
       "    </tr>\n",
       "    <tr>\n",
       "      <th>318046</th>\n",
       "      <td>45443053</td>\n",
       "      <td>1660612</td>\n",
       "      <td>[nan, 0.0, 1.0, 1.0, 1.0, 0.0, 1.0, 1.0, 0.0, 7.0, 0.0, 0.0, 0.0, 1.0, 12.0, 6.0, 11.0, 1.0, 1.0, 0.0, 13.0, 0.0, 3.0, 0.0, 2.0, 0.0, 1.0, 3.0, 0.0, 3.0, 4.0, 2.0, 1.0, 1.0, 0.0, 0.0, 1.0, 2.0, 4.0, 2.0, 1.0, 17.0, 0.0, 0.0]</td>\n",
       "      <td>44</td>\n",
       "      <td>[253, 253, 254, 255, 256, 256, 257, 258, 258, 265, 265, 265, 265, 266, 278, 284, 295, 296, 297, 297, 310, 310, 313, 313, 315, 315, 316, 319, 319, 322, 326, 328, 329, 330, 330, 330, 331, 333, 337, 339, 340, 357, 357, 357]</td>\n",
       "      <td>1.000000</td>\n",
       "    </tr>\n",
       "    <tr>\n",
       "      <th>318047</th>\n",
       "      <td>45471482</td>\n",
       "      <td>1945563</td>\n",
       "      <td>[nan, 10.0, 18.0]</td>\n",
       "      <td>3</td>\n",
       "      <td>[47, 57, 75]</td>\n",
       "      <td>0.250000</td>\n",
       "    </tr>\n",
       "    <tr>\n",
       "      <th>318048</th>\n",
       "      <td>45471482</td>\n",
       "      <td>3309954</td>\n",
       "      <td>[nan, 8.0, 3.0]</td>\n",
       "      <td>3</td>\n",
       "      <td>[303, 311, 314]</td>\n",
       "      <td>0.250000</td>\n",
       "    </tr>\n",
       "    <tr>\n",
       "      <th>318049</th>\n",
       "      <td>45471482</td>\n",
       "      <td>4563945</td>\n",
       "      <td>[nan, 3.0, 13.0, 12.0, 12.0, 1.0]</td>\n",
       "      <td>6</td>\n",
       "      <td>[273, 276, 289, 301, 313, 314]</td>\n",
       "      <td>0.500000</td>\n",
       "    </tr>\n",
       "  </tbody>\n",
       "</table>"
      ],
      "text/plain": [
       "<IPython.core.display.HTML object>"
      ]
     },
     "metadata": {},
     "output_type": "display_data"
    }
   ],
   "source": [
    "groupedtrdf['ProductProbPerUser'] = groupedtrdf.groupby('user_id',as_index=False)['LenOfList'].transform(lambda x:x/np.nansum(x))\n",
    "\n",
    "print(groupedtrdf.shape)\n",
    "with pd.option_context('display.max_rows', 100, 'display.max_columns', 10,'max_colwidth', None):\n",
    "    display(HTML(groupedtrdf.tail(6).to_html()))"
   ]
  },
  {
   "cell_type": "code",
   "execution_count": 38,
   "id": "d4c787be",
   "metadata": {
    "execution": {
     "iopub.execute_input": "2022-07-17T09:48:30.053358Z",
     "iopub.status.busy": "2022-07-17T09:48:30.052914Z",
     "iopub.status.idle": "2022-07-17T09:48:30.080596Z",
     "shell.execute_reply": "2022-07-17T09:48:30.079429Z"
    },
    "papermill": {
     "duration": 0.052969,
     "end_time": "2022-07-17T09:48:30.083648",
     "exception": false,
     "start_time": "2022-07-17T09:48:30.030679",
     "status": "completed"
    },
    "tags": []
   },
   "outputs": [
    {
     "data": {
      "text/html": [
       "<div>\n",
       "<style scoped>\n",
       "    .dataframe tbody tr th:only-of-type {\n",
       "        vertical-align: middle;\n",
       "    }\n",
       "\n",
       "    .dataframe tbody tr th {\n",
       "        vertical-align: top;\n",
       "    }\n",
       "\n",
       "    .dataframe thead th {\n",
       "        text-align: right;\n",
       "    }\n",
       "</style>\n",
       "<table border=\"1\" class=\"dataframe\">\n",
       "  <thead>\n",
       "    <tr style=\"text-align: right;\">\n",
       "      <th></th>\n",
       "      <th>user_id</th>\n",
       "      <th>product_id</th>\n",
       "      <th>allDiffDay</th>\n",
       "      <th>LenOfList</th>\n",
       "      <th>allGoneDay</th>\n",
       "      <th>ProductProbPerUser</th>\n",
       "    </tr>\n",
       "  </thead>\n",
       "  <tbody>\n",
       "    <tr>\n",
       "      <th>121413</th>\n",
       "      <td>5805289</td>\n",
       "      <td>3880419</td>\n",
       "      <td>[nan, 6.0, 17.0]</td>\n",
       "      <td>3</td>\n",
       "      <td>[98, 104, 121]</td>\n",
       "      <td>1.0</td>\n",
       "    </tr>\n",
       "  </tbody>\n",
       "</table>\n",
       "</div>"
      ],
      "text/plain": [
       "        user_id  product_id        allDiffDay  LenOfList      allGoneDay  \\\n",
       "121413  5805289     3880419  [nan, 6.0, 17.0]          3  [98, 104, 121]   \n",
       "\n",
       "        ProductProbPerUser  \n",
       "121413                 1.0  "
      ]
     },
     "execution_count": 38,
     "metadata": {},
     "output_type": "execute_result"
    }
   ],
   "source": [
    "# testing probabilty calculation\n",
    "smpl_user_id =groupedtrdf.sample(1)['user_id'].iloc[0]\n",
    "t=groupedtrdf[groupedtrdf['user_id']==smpl_user_id]\n",
    "t"
   ]
  },
  {
   "cell_type": "markdown",
   "id": "32de60dd",
   "metadata": {
    "papermill": {
     "duration": 0.02113,
     "end_time": "2022-07-17T09:48:30.126236",
     "exception": false,
     "start_time": "2022-07-17T09:48:30.105106",
     "status": "completed"
    },
    "tags": []
   },
   "source": [
    "#### Probabilty of each product for buying"
   ]
  },
  {
   "cell_type": "code",
   "execution_count": 39,
   "id": "5177bf04",
   "metadata": {
    "execution": {
     "iopub.execute_input": "2022-07-17T09:48:30.171747Z",
     "iopub.status.busy": "2022-07-17T09:48:30.170740Z",
     "iopub.status.idle": "2022-07-17T09:48:30.232857Z",
     "shell.execute_reply": "2022-07-17T09:48:30.231610Z"
    },
    "papermill": {
     "duration": 0.087202,
     "end_time": "2022-07-17T09:48:30.235666",
     "exception": false,
     "start_time": "2022-07-17T09:48:30.148464",
     "status": "completed"
    },
    "tags": []
   },
   "outputs": [
    {
     "name": "stdout",
     "output_type": "stream",
     "text": [
      "(41127, 2)\n"
     ]
    },
    {
     "data": {
      "text/html": [
       "<div>\n",
       "<style scoped>\n",
       "    .dataframe tbody tr th:only-of-type {\n",
       "        vertical-align: middle;\n",
       "    }\n",
       "\n",
       "    .dataframe tbody tr th {\n",
       "        vertical-align: top;\n",
       "    }\n",
       "\n",
       "    .dataframe thead th {\n",
       "        text-align: right;\n",
       "    }\n",
       "</style>\n",
       "<table border=\"1\" class=\"dataframe\">\n",
       "  <thead>\n",
       "    <tr style=\"text-align: right;\">\n",
       "      <th></th>\n",
       "      <th>product_id</th>\n",
       "      <th>ProductProb</th>\n",
       "    </tr>\n",
       "  </thead>\n",
       "  <tbody>\n",
       "    <tr>\n",
       "      <th>0</th>\n",
       "      <td>895742</td>\n",
       "      <td>0.5722</td>\n",
       "    </tr>\n",
       "    <tr>\n",
       "      <th>1</th>\n",
       "      <td>4233247</td>\n",
       "      <td>0.4766</td>\n",
       "    </tr>\n",
       "    <tr>\n",
       "      <th>2</th>\n",
       "      <td>2198311</td>\n",
       "      <td>0.4740</td>\n",
       "    </tr>\n",
       "    <tr>\n",
       "      <th>3</th>\n",
       "      <td>1660612</td>\n",
       "      <td>0.4454</td>\n",
       "    </tr>\n",
       "    <tr>\n",
       "      <th>4</th>\n",
       "      <td>968153</td>\n",
       "      <td>0.3675</td>\n",
       "    </tr>\n",
       "  </tbody>\n",
       "</table>\n",
       "</div>"
      ],
      "text/plain": [
       "   product_id  ProductProb\n",
       "0      895742       0.5722\n",
       "1     4233247       0.4766\n",
       "2     2198311       0.4740\n",
       "3     1660612       0.4454\n",
       "4      968153       0.3675"
      ]
     },
     "execution_count": 39,
     "metadata": {},
     "output_type": "execute_result"
    }
   ],
   "source": [
    "productProb = pd.DataFrame(trainData['product_id'].value_counts()).reset_index()\n",
    "productProb.columns=['product_id','ProductProb']\n",
    "productProb['ProductProb'] = (productProb['ProductProb']/len(productProb['ProductProb']) ).round(4)\n",
    "print(productProb.shape)\n",
    "productProb.head(5)"
   ]
  },
  {
   "cell_type": "code",
   "execution_count": 40,
   "id": "2689ebc9",
   "metadata": {
    "execution": {
     "iopub.execute_input": "2022-07-17T09:48:30.282310Z",
     "iopub.status.busy": "2022-07-17T09:48:30.281517Z",
     "iopub.status.idle": "2022-07-17T09:48:30.403455Z",
     "shell.execute_reply": "2022-07-17T09:48:30.401874Z"
    },
    "papermill": {
     "duration": 0.148415,
     "end_time": "2022-07-17T09:48:30.406624",
     "exception": false,
     "start_time": "2022-07-17T09:48:30.258209",
     "status": "completed"
    },
    "tags": []
   },
   "outputs": [
    {
     "name": "stdout",
     "output_type": "stream",
     "text": [
      "(318050, 7)\n"
     ]
    },
    {
     "data": {
      "text/html": [
       "<table border=\"1\" class=\"dataframe\">\n",
       "  <thead>\n",
       "    <tr style=\"text-align: right;\">\n",
       "      <th></th>\n",
       "      <th>user_id</th>\n",
       "      <th>product_id</th>\n",
       "      <th>allDiffDay</th>\n",
       "      <th>LenOfList</th>\n",
       "      <th>allGoneDay</th>\n",
       "      <th>ProductProbPerUser</th>\n",
       "      <th>ProductProb</th>\n",
       "    </tr>\n",
       "  </thead>\n",
       "  <tbody>\n",
       "    <tr>\n",
       "      <th>318045</th>\n",
       "      <td>45431507</td>\n",
       "      <td>4375282</td>\n",
       "      <td>[nan, 73.0, 21.0]</td>\n",
       "      <td>3</td>\n",
       "      <td>[97, 170, 191]</td>\n",
       "      <td>1.00</td>\n",
       "      <td>0.1068</td>\n",
       "    </tr>\n",
       "    <tr>\n",
       "      <th>318046</th>\n",
       "      <td>45443053</td>\n",
       "      <td>1660612</td>\n",
       "      <td>[nan, 0.0, 1.0, 1.0, 1.0, 0.0, 1.0, 1.0, 0.0, 7.0, 0.0, 0.0, 0.0, 1.0, 12.0, 6.0, 11.0, 1.0, 1.0, 0.0, 13.0, 0.0, 3.0, 0.0, 2.0, 0.0, 1.0, 3.0, 0.0, 3.0, 4.0, 2.0, 1.0, 1.0, 0.0, 0.0, 1.0, 2.0, 4.0, 2.0, 1.0, 17.0, 0.0, 0.0]</td>\n",
       "      <td>44</td>\n",
       "      <td>[253, 253, 254, 255, 256, 256, 257, 258, 258, 265, 265, 265, 265, 266, 278, 284, 295, 296, 297, 297, 310, 310, 313, 313, 315, 315, 316, 319, 319, 322, 326, 328, 329, 330, 330, 330, 331, 333, 337, 339, 340, 357, 357, 357]</td>\n",
       "      <td>1.00</td>\n",
       "      <td>0.4454</td>\n",
       "    </tr>\n",
       "    <tr>\n",
       "      <th>318047</th>\n",
       "      <td>45471482</td>\n",
       "      <td>1945563</td>\n",
       "      <td>[nan, 10.0, 18.0]</td>\n",
       "      <td>3</td>\n",
       "      <td>[47, 57, 75]</td>\n",
       "      <td>0.25</td>\n",
       "      <td>0.0003</td>\n",
       "    </tr>\n",
       "    <tr>\n",
       "      <th>318048</th>\n",
       "      <td>45471482</td>\n",
       "      <td>3309954</td>\n",
       "      <td>[nan, 8.0, 3.0]</td>\n",
       "      <td>3</td>\n",
       "      <td>[303, 311, 314]</td>\n",
       "      <td>0.25</td>\n",
       "      <td>0.0001</td>\n",
       "    </tr>\n",
       "    <tr>\n",
       "      <th>318049</th>\n",
       "      <td>45471482</td>\n",
       "      <td>4563945</td>\n",
       "      <td>[nan, 3.0, 13.0, 12.0, 12.0, 1.0]</td>\n",
       "      <td>6</td>\n",
       "      <td>[273, 276, 289, 301, 313, 314]</td>\n",
       "      <td>0.50</td>\n",
       "      <td>0.0001</td>\n",
       "    </tr>\n",
       "  </tbody>\n",
       "</table>"
      ],
      "text/plain": [
       "<IPython.core.display.HTML object>"
      ]
     },
     "metadata": {},
     "output_type": "display_data"
    }
   ],
   "source": [
    "productUsertrdf=pd.merge(left=groupedtrdf,right=productProb,how='left',on='product_id')\n",
    "print(productUsertrdf.shape)\n",
    "with pd.option_context('display.max_rows', 100, 'display.max_columns', 10,'max_colwidth', None):\n",
    "    display(HTML(productUsertrdf.tail(5).to_html()))"
   ]
  },
  {
   "cell_type": "code",
   "execution_count": 41,
   "id": "ca0a857b",
   "metadata": {
    "execution": {
     "iopub.execute_input": "2022-07-17T09:48:30.453406Z",
     "iopub.status.busy": "2022-07-17T09:48:30.452943Z",
     "iopub.status.idle": "2022-07-17T09:48:30.539363Z",
     "shell.execute_reply": "2022-07-17T09:48:30.538110Z"
    },
    "papermill": {
     "duration": 0.113107,
     "end_time": "2022-07-17T09:48:30.542094",
     "exception": false,
     "start_time": "2022-07-17T09:48:30.428987",
     "status": "completed"
    },
    "tags": []
   },
   "outputs": [
    {
     "data": {
      "text/plain": [
       "user_id               0\n",
       "product_id            0\n",
       "allDiffDay            0\n",
       "LenOfList             0\n",
       "allGoneDay            0\n",
       "ProductProbPerUser    0\n",
       "ProductProb           0\n",
       "dtype: int64"
      ]
     },
     "execution_count": 41,
     "metadata": {},
     "output_type": "execute_result"
    }
   ],
   "source": [
    "productUsertrdf.isna().sum()"
   ]
  },
  {
   "cell_type": "code",
   "execution_count": null,
   "id": "7b8959a7",
   "metadata": {
    "papermill": {
     "duration": 0.02162,
     "end_time": "2022-07-17T09:48:30.585713",
     "exception": false,
     "start_time": "2022-07-17T09:48:30.564093",
     "status": "completed"
    },
    "tags": []
   },
   "outputs": [],
   "source": []
  },
  {
   "cell_type": "code",
   "execution_count": null,
   "id": "7c18d143",
   "metadata": {
    "papermill": {
     "duration": 0.02192,
     "end_time": "2022-07-17T09:48:30.629433",
     "exception": false,
     "start_time": "2022-07-17T09:48:30.607513",
     "status": "completed"
    },
    "tags": []
   },
   "outputs": [],
   "source": []
  },
  {
   "cell_type": "code",
   "execution_count": null,
   "id": "81ec483e",
   "metadata": {
    "papermill": {
     "duration": 0.021324,
     "end_time": "2022-07-17T09:48:30.672878",
     "exception": false,
     "start_time": "2022-07-17T09:48:30.651554",
     "status": "completed"
    },
    "tags": []
   },
   "outputs": [],
   "source": []
  },
  {
   "cell_type": "markdown",
   "id": "0a869575",
   "metadata": {
    "papermill": {
     "duration": 0.021357,
     "end_time": "2022-07-17T09:48:30.715747",
     "exception": false,
     "start_time": "2022-07-17T09:48:30.694390",
     "status": "completed"
    },
    "tags": []
   },
   "source": [
    "### extract some features for each product and for each user."
   ]
  },
  {
   "cell_type": "code",
   "execution_count": 42,
   "id": "cb577d2f",
   "metadata": {
    "execution": {
     "iopub.execute_input": "2022-07-17T09:48:30.760451Z",
     "iopub.status.busy": "2022-07-17T09:48:30.760019Z",
     "iopub.status.idle": "2022-07-17T09:48:30.767514Z",
     "shell.execute_reply": "2022-07-17T09:48:30.766534Z"
    },
    "papermill": {
     "duration": 0.0325,
     "end_time": "2022-07-17T09:48:30.769535",
     "exception": false,
     "start_time": "2022-07-17T09:48:30.737035",
     "status": "completed"
    },
    "tags": []
   },
   "outputs": [],
   "source": [
    "def extractToApply(x):\n",
    "    x['avgDiffDay'] = np.nanmean(x['allDiffDay'])\n",
    "    x['stdDiffDay'] = np.nanstd(x['allDiffDay'])\n",
    "    x['maxDiffDay'] = np.nanmax(x['allDiffDay'])\n",
    "    x['minDiffDay'] = np.nanmin(x['allDiffDay'])\n",
    "    \n",
    "    x['maxGoneDay'] = np.nanmax(x['allGoneDay'])\n",
    "    x['minGoneDay'] = np.nanmin(x['allGoneDay'])\n",
    "    x['medianGoneDay'] = np.nanmedian(x['allGoneDay'])\n",
    "    x['stdGoneDay'] = np.nanstd(x['allGoneDay'])\n",
    "    #x['LastGoneDay']=x['allGoneDay'][-1]\n",
    "    \n",
    "    return x"
   ]
  },
  {
   "cell_type": "code",
   "execution_count": 43,
   "id": "598e393b",
   "metadata": {
    "execution": {
     "iopub.execute_input": "2022-07-17T09:48:30.814260Z",
     "iopub.status.busy": "2022-07-17T09:48:30.813150Z",
     "iopub.status.idle": "2022-07-17T10:15:30.246238Z",
     "shell.execute_reply": "2022-07-17T10:15:30.245125Z"
    },
    "papermill": {
     "duration": 1619.480655,
     "end_time": "2022-07-17T10:15:30.271260",
     "exception": false,
     "start_time": "2022-07-17T09:48:30.790605",
     "status": "completed"
    },
    "tags": []
   },
   "outputs": [
    {
     "name": "stdout",
     "output_type": "stream",
     "text": [
      "(318050, 15)\n"
     ]
    },
    {
     "data": {
      "text/html": [
       "<table border=\"1\" class=\"dataframe\">\n",
       "  <thead>\n",
       "    <tr style=\"text-align: right;\">\n",
       "      <th></th>\n",
       "      <th>user_id</th>\n",
       "      <th>product_id</th>\n",
       "      <th>allDiffDay</th>\n",
       "      <th>LenOfList</th>\n",
       "      <th>allGoneDay</th>\n",
       "      <th>ProductProbPerUser</th>\n",
       "      <th>ProductProb</th>\n",
       "      <th>avgDiffDay</th>\n",
       "      <th>stdDiffDay</th>\n",
       "      <th>maxDiffDay</th>\n",
       "      <th>minDiffDay</th>\n",
       "      <th>maxGoneDay</th>\n",
       "      <th>minGoneDay</th>\n",
       "      <th>medianGoneDay</th>\n",
       "      <th>stdGoneDay</th>\n",
       "    </tr>\n",
       "  </thead>\n",
       "  <tbody>\n",
       "    <tr>\n",
       "      <th>318045</th>\n",
       "      <td>45431507</td>\n",
       "      <td>4375282</td>\n",
       "      <td>[nan, 73.0, 21.0]</td>\n",
       "      <td>3</td>\n",
       "      <td>[97, 170, 191]</td>\n",
       "      <td>1.00</td>\n",
       "      <td>0.1068</td>\n",
       "      <td>47.000000</td>\n",
       "      <td>26.000000</td>\n",
       "      <td>73.0</td>\n",
       "      <td>21.0</td>\n",
       "      <td>191</td>\n",
       "      <td>97</td>\n",
       "      <td>170.0</td>\n",
       "      <td>40.285095</td>\n",
       "    </tr>\n",
       "    <tr>\n",
       "      <th>318046</th>\n",
       "      <td>45443053</td>\n",
       "      <td>1660612</td>\n",
       "      <td>[nan, 0.0, 1.0, 1.0, 1.0, 0.0, 1.0, 1.0, 0.0, 7.0, 0.0, 0.0, 0.0, 1.0, 12.0, 6.0, 11.0, 1.0, 1.0, 0.0, 13.0, 0.0, 3.0, 0.0, 2.0, 0.0, 1.0, 3.0, 0.0, 3.0, 4.0, 2.0, 1.0, 1.0, 0.0, 0.0, 1.0, 2.0, 4.0, 2.0, 1.0, 17.0, 0.0, 0.0]</td>\n",
       "      <td>44</td>\n",
       "      <td>[253, 253, 254, 255, 256, 256, 257, 258, 258, 265, 265, 265, 265, 266, 278, 284, 295, 296, 297, 297, 310, 310, 313, 313, 315, 315, 316, 319, 319, 322, 326, 328, 329, 330, 330, 330, 331, 333, 337, 339, 340, 357, 357, 357]</td>\n",
       "      <td>1.00</td>\n",
       "      <td>0.4454</td>\n",
       "      <td>2.418605</td>\n",
       "      <td>3.871377</td>\n",
       "      <td>17.0</td>\n",
       "      <td>0.0</td>\n",
       "      <td>357</td>\n",
       "      <td>253</td>\n",
       "      <td>311.5</td>\n",
       "      <td>33.147889</td>\n",
       "    </tr>\n",
       "    <tr>\n",
       "      <th>318047</th>\n",
       "      <td>45471482</td>\n",
       "      <td>1945563</td>\n",
       "      <td>[nan, 10.0, 18.0]</td>\n",
       "      <td>3</td>\n",
       "      <td>[47, 57, 75]</td>\n",
       "      <td>0.25</td>\n",
       "      <td>0.0003</td>\n",
       "      <td>14.000000</td>\n",
       "      <td>4.000000</td>\n",
       "      <td>18.0</td>\n",
       "      <td>10.0</td>\n",
       "      <td>75</td>\n",
       "      <td>47</td>\n",
       "      <td>57.0</td>\n",
       "      <td>11.585431</td>\n",
       "    </tr>\n",
       "    <tr>\n",
       "      <th>318048</th>\n",
       "      <td>45471482</td>\n",
       "      <td>3309954</td>\n",
       "      <td>[nan, 8.0, 3.0]</td>\n",
       "      <td>3</td>\n",
       "      <td>[303, 311, 314]</td>\n",
       "      <td>0.25</td>\n",
       "      <td>0.0001</td>\n",
       "      <td>5.500000</td>\n",
       "      <td>2.500000</td>\n",
       "      <td>8.0</td>\n",
       "      <td>3.0</td>\n",
       "      <td>314</td>\n",
       "      <td>303</td>\n",
       "      <td>311.0</td>\n",
       "      <td>4.642796</td>\n",
       "    </tr>\n",
       "    <tr>\n",
       "      <th>318049</th>\n",
       "      <td>45471482</td>\n",
       "      <td>4563945</td>\n",
       "      <td>[nan, 3.0, 13.0, 12.0, 12.0, 1.0]</td>\n",
       "      <td>6</td>\n",
       "      <td>[273, 276, 289, 301, 313, 314]</td>\n",
       "      <td>0.50</td>\n",
       "      <td>0.0001</td>\n",
       "      <td>8.200000</td>\n",
       "      <td>5.114685</td>\n",
       "      <td>13.0</td>\n",
       "      <td>1.0</td>\n",
       "      <td>314</td>\n",
       "      <td>273</td>\n",
       "      <td>295.0</td>\n",
       "      <td>16.326529</td>\n",
       "    </tr>\n",
       "  </tbody>\n",
       "</table>"
      ],
      "text/plain": [
       "<IPython.core.display.HTML object>"
      ]
     },
     "metadata": {},
     "output_type": "display_data"
    }
   ],
   "source": [
    "productUsertrdf = productUsertrdf.apply(extractToApply,axis=1)\n",
    "print(productUsertrdf.shape)\n",
    "with pd.option_context('display.max_rows', 100, 'display.max_columns', 10,'max_colwidth', None):\n",
    "    display(HTML(productUsertrdf.tail(5).to_html()))"
   ]
  },
  {
   "cell_type": "code",
   "execution_count": 44,
   "id": "a328f520",
   "metadata": {
    "execution": {
     "iopub.execute_input": "2022-07-17T10:15:30.319394Z",
     "iopub.status.busy": "2022-07-17T10:15:30.318530Z",
     "iopub.status.idle": "2022-07-17T10:15:36.409380Z",
     "shell.execute_reply": "2022-07-17T10:15:36.407927Z"
    },
    "papermill": {
     "duration": 6.117743,
     "end_time": "2022-07-17T10:15:36.412321",
     "exception": false,
     "start_time": "2022-07-17T10:15:30.294578",
     "status": "completed"
    },
    "tags": []
   },
   "outputs": [],
   "source": [
    "productUsertrdf.to_csv('productUsertrdf.csv')"
   ]
  },
  {
   "cell_type": "code",
   "execution_count": 45,
   "id": "2725e57f",
   "metadata": {
    "execution": {
     "iopub.execute_input": "2022-07-17T10:15:36.457982Z",
     "iopub.status.busy": "2022-07-17T10:15:36.457102Z",
     "iopub.status.idle": "2022-07-17T10:15:36.471034Z",
     "shell.execute_reply": "2022-07-17T10:15:36.469706Z"
    },
    "papermill": {
     "duration": 0.040573,
     "end_time": "2022-07-17T10:15:36.474674",
     "exception": false,
     "start_time": "2022-07-17T10:15:36.434101",
     "status": "completed"
    },
    "tags": []
   },
   "outputs": [
    {
     "name": "stdout",
     "output_type": "stream",
     "text": [
      "sum:  40.7104\n"
     ]
    },
    {
     "data": {
      "text/plain": [
       "Index                 2.5444\n",
       "user_id               2.5444\n",
       "product_id            2.5444\n",
       "allDiffDay            2.5444\n",
       "LenOfList             2.5444\n",
       "allGoneDay            2.5444\n",
       "ProductProbPerUser    2.5444\n",
       "ProductProb           2.5444\n",
       "avgDiffDay            2.5444\n",
       "stdDiffDay            2.5444\n",
       "maxDiffDay            2.5444\n",
       "minDiffDay            2.5444\n",
       "maxGoneDay            2.5444\n",
       "minGoneDay            2.5444\n",
       "medianGoneDay         2.5444\n",
       "stdGoneDay            2.5444\n",
       "dtype: float64"
      ]
     },
     "execution_count": 45,
     "metadata": {},
     "output_type": "execute_result"
    }
   ],
   "source": [
    "mem = productUsertrdf.memory_usage()/1e6\n",
    "print('sum: ',np.sum(mem))\n",
    "mem"
   ]
  },
  {
   "cell_type": "markdown",
   "id": "f92dc49d",
   "metadata": {
    "papermill": {
     "duration": 0.0216,
     "end_time": "2022-07-17T10:15:36.518340",
     "exception": false,
     "start_time": "2022-07-17T10:15:36.496740",
     "status": "completed"
    },
    "tags": []
   },
   "source": [
    "### Users with highest transactions(80 percentile)"
   ]
  },
  {
   "cell_type": "code",
   "execution_count": 46,
   "id": "1cf51579",
   "metadata": {
    "execution": {
     "iopub.execute_input": "2022-07-17T10:15:36.566274Z",
     "iopub.status.busy": "2022-07-17T10:15:36.565077Z",
     "iopub.status.idle": "2022-07-17T10:15:36.682931Z",
     "shell.execute_reply": "2022-07-17T10:15:36.681767Z"
    },
    "papermill": {
     "duration": 0.143851,
     "end_time": "2022-07-17T10:15:36.685513",
     "exception": false,
     "start_time": "2022-07-17T10:15:36.541662",
     "status": "completed"
    },
    "tags": []
   },
   "outputs": [
    {
     "data": {
      "text/html": [
       "<div>\n",
       "<style scoped>\n",
       "    .dataframe tbody tr th:only-of-type {\n",
       "        vertical-align: middle;\n",
       "    }\n",
       "\n",
       "    .dataframe tbody tr th {\n",
       "        vertical-align: top;\n",
       "    }\n",
       "\n",
       "    .dataframe thead th {\n",
       "        text-align: right;\n",
       "    }\n",
       "</style>\n",
       "<table border=\"1\" class=\"dataframe\">\n",
       "  <thead>\n",
       "    <tr style=\"text-align: right;\">\n",
       "      <th></th>\n",
       "      <th>user_id</th>\n",
       "      <th>totalTrasPerUser</th>\n",
       "    </tr>\n",
       "  </thead>\n",
       "  <tbody>\n",
       "    <tr>\n",
       "      <th>0</th>\n",
       "      <td>577243</td>\n",
       "      <td>140</td>\n",
       "    </tr>\n",
       "    <tr>\n",
       "      <th>5</th>\n",
       "      <td>577521</td>\n",
       "      <td>21</td>\n",
       "    </tr>\n",
       "    <tr>\n",
       "      <th>13</th>\n",
       "      <td>577790</td>\n",
       "      <td>22</td>\n",
       "    </tr>\n",
       "    <tr>\n",
       "      <th>15</th>\n",
       "      <td>577856</td>\n",
       "      <td>40</td>\n",
       "    </tr>\n",
       "    <tr>\n",
       "      <th>19</th>\n",
       "      <td>577980</td>\n",
       "      <td>125</td>\n",
       "    </tr>\n",
       "    <tr>\n",
       "      <th>...</th>\n",
       "      <td>...</td>\n",
       "      <td>...</td>\n",
       "    </tr>\n",
       "    <tr>\n",
       "      <th>96678</th>\n",
       "      <td>45334501</td>\n",
       "      <td>96</td>\n",
       "    </tr>\n",
       "    <tr>\n",
       "      <th>96679</th>\n",
       "      <td>45334805</td>\n",
       "      <td>41</td>\n",
       "    </tr>\n",
       "    <tr>\n",
       "      <th>96681</th>\n",
       "      <td>45335223</td>\n",
       "      <td>62</td>\n",
       "    </tr>\n",
       "    <tr>\n",
       "      <th>96683</th>\n",
       "      <td>45338907</td>\n",
       "      <td>20</td>\n",
       "    </tr>\n",
       "    <tr>\n",
       "      <th>96686</th>\n",
       "      <td>45443053</td>\n",
       "      <td>44</td>\n",
       "    </tr>\n",
       "  </tbody>\n",
       "</table>\n",
       "<p>19611 rows × 2 columns</p>\n",
       "</div>"
      ],
      "text/plain": [
       "        user_id  totalTrasPerUser\n",
       "0        577243               140\n",
       "5        577521                21\n",
       "13       577790                22\n",
       "15       577856                40\n",
       "19       577980               125\n",
       "...         ...               ...\n",
       "96678  45334501                96\n",
       "96679  45334805                41\n",
       "96681  45335223                62\n",
       "96683  45338907                20\n",
       "96686  45443053                44\n",
       "\n",
       "[19611 rows x 2 columns]"
      ]
     },
     "execution_count": 46,
     "metadata": {},
     "output_type": "execute_result"
    }
   ],
   "source": [
    "productUsertrdfCopy = productUsertrdf.copy()\n",
    "#productUsertrdfCopy.reset_index(inplace=True)\n",
    "totalTrdf = productUsertrdfCopy.groupby('user_id',as_index=False).agg(totalTrasPerUser=('LenOfList','sum'))\n",
    "del productUsertrdfCopy\n",
    "highestTrdf = totalTrdf[totalTrdf['totalTrasPerUser']>= totalTrdf['totalTrasPerUser'].quantile(0.80)]\n",
    "del totalTrdf\n",
    "highestTrdf"
   ]
  },
  {
   "cell_type": "code",
   "execution_count": 47,
   "id": "95163f0e",
   "metadata": {
    "execution": {
     "iopub.execute_input": "2022-07-17T10:15:36.732971Z",
     "iopub.status.busy": "2022-07-17T10:15:36.732586Z",
     "iopub.status.idle": "2022-07-17T10:15:36.740689Z",
     "shell.execute_reply": "2022-07-17T10:15:36.739280Z"
    },
    "papermill": {
     "duration": 0.035235,
     "end_time": "2022-07-17T10:15:36.743198",
     "exception": false,
     "start_time": "2022-07-17T10:15:36.707963",
     "status": "completed"
    },
    "tags": []
   },
   "outputs": [
    {
     "data": {
      "text/plain": [
       "19"
      ]
     },
     "execution_count": 47,
     "metadata": {},
     "output_type": "execute_result"
    }
   ],
   "source": [
    "highestTrdf['totalTrasPerUser'].min()"
   ]
  },
  {
   "cell_type": "code",
   "execution_count": 48,
   "id": "b1558931",
   "metadata": {
    "execution": {
     "iopub.execute_input": "2022-07-17T10:15:36.791635Z",
     "iopub.status.busy": "2022-07-17T10:15:36.790324Z",
     "iopub.status.idle": "2022-07-17T10:15:36.797209Z",
     "shell.execute_reply": "2022-07-17T10:15:36.796395Z"
    },
    "papermill": {
     "duration": 0.032701,
     "end_time": "2022-07-17T10:15:36.799442",
     "exception": false,
     "start_time": "2022-07-17T10:15:36.766741",
     "status": "completed"
    },
    "tags": []
   },
   "outputs": [
    {
     "data": {
      "text/plain": [
       "13602"
      ]
     },
     "execution_count": 48,
     "metadata": {},
     "output_type": "execute_result"
    }
   ],
   "source": [
    "highestTrdf['totalTrasPerUser'].max()"
   ]
  },
  {
   "cell_type": "code",
   "execution_count": null,
   "id": "a60c08cc",
   "metadata": {
    "papermill": {
     "duration": 0.022049,
     "end_time": "2022-07-17T10:15:36.843649",
     "exception": false,
     "start_time": "2022-07-17T10:15:36.821600",
     "status": "completed"
    },
    "tags": []
   },
   "outputs": [],
   "source": []
  }
 ],
 "metadata": {
  "kernelspec": {
   "display_name": "Python 3",
   "language": "python",
   "name": "python3"
  },
  "language_info": {
   "codemirror_mode": {
    "name": "ipython",
    "version": 3
   },
   "file_extension": ".py",
   "mimetype": "text/x-python",
   "name": "python",
   "nbconvert_exporter": "python",
   "pygments_lexer": "ipython3",
   "version": "3.7.12"
  },
  "papermill": {
   "default_parameters": {},
   "duration": 2315.807124,
   "end_time": "2022-07-17T10:15:37.994903",
   "environment_variables": {},
   "exception": null,
   "input_path": "__notebook__.ipynb",
   "output_path": "__notebook__.ipynb",
   "parameters": {},
   "start_time": "2022-07-17T09:37:02.187779",
   "version": "2.3.4"
  }
 },
 "nbformat": 4,
 "nbformat_minor": 5
}
